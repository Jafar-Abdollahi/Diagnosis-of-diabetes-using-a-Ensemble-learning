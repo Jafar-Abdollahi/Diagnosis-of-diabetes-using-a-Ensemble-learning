{
 "cells": [
  {
   "cell_type": "code",
   "execution_count": 1,
   "metadata": {},
   "outputs": [
    {
     "name": "stdout",
     "output_type": "stream",
     "text": [
      "Wellcome to Program Health Diabetic\n",
      "2019-12-11 08:42:45.877775-07:00\n"
     ]
    }
   ],
   "source": [
    "#مشاهده تاریخ وساعت \n",
    "def display_message(name,*messages):\n",
    "    print(name)\n",
    "    for item in messages:\n",
    "        print(item)\n",
    "display_message(\"Wellcome to Program Health Diabetic\")\n",
    "import datetime\n",
    "import pytz\n",
    "dt = datetime.datetime(2017, 4, 12, 12, 24, 3, 10000, tzinfo=pytz.utc)\n",
    "now = datetime.datetime.now(tz=pytz.UTC)\n",
    "ustime = now.astimezone(pytz.timezone('US/Mountain'))\n",
    "print(ustime)"
   ]
  },
  {
   "cell_type": "code",
   "execution_count": 2,
   "metadata": {},
   "outputs": [],
   "source": [
    "#def print_args(**args):\n",
    "    #print(args)\n",
    "#print('Basic Information','\\n',)\n",
    "#print_args(Pregnancies='6',Glucose='148',BloodPressure='72',SkinThickness='35',Insulin='0',BMI='33.6',DiabetesPedigreeFunction='0.627',Age='50',Outcome='1')"
   ]
  },
  {
   "cell_type": "code",
   "execution_count": 3,
   "metadata": {},
   "outputs": [
    {
     "name": "stderr",
     "output_type": "stream",
     "text": [
      "C:\\ProgramData\\Anaconda3\\lib\\site-packages\\sklearn\\ensemble\\weight_boosting.py:29: DeprecationWarning: numpy.core.umath_tests is an internal NumPy module and should not be imported. It will be removed in a future NumPy release.\n",
      "  from numpy.core.umath_tests import inner1d\n",
      "C:\\ProgramData\\Anaconda3\\lib\\site-packages\\sklearn\\cross_validation.py:41: DeprecationWarning: This module was deprecated in version 0.18 in favor of the model_selection module into which all the refactored classes and functions are moved. Also note that the interface of the new CV iterators are different from that of this module. This module will be removed in 0.20.\n",
      "  \"This module will be removed in 0.20.\", DeprecationWarning)\n"
     ]
    },
    {
     "data": {
      "text/html": [
       "<div>\n",
       "<style scoped>\n",
       "    .dataframe tbody tr th:only-of-type {\n",
       "        vertical-align: middle;\n",
       "    }\n",
       "\n",
       "    .dataframe tbody tr th {\n",
       "        vertical-align: top;\n",
       "    }\n",
       "\n",
       "    .dataframe thead th {\n",
       "        text-align: right;\n",
       "    }\n",
       "</style>\n",
       "<table border=\"1\" class=\"dataframe\">\n",
       "  <thead>\n",
       "    <tr style=\"text-align: right;\">\n",
       "      <th></th>\n",
       "      <th>Pregnancies</th>\n",
       "      <th>Glucose</th>\n",
       "      <th>BloodPressure</th>\n",
       "      <th>SkinThickness</th>\n",
       "      <th>Insulin</th>\n",
       "      <th>BMI</th>\n",
       "      <th>DiabetesPedigreeFunction</th>\n",
       "      <th>Age</th>\n",
       "      <th>Outcome</th>\n",
       "    </tr>\n",
       "  </thead>\n",
       "  <tbody>\n",
       "    <tr>\n",
       "      <th>0</th>\n",
       "      <td>6</td>\n",
       "      <td>148</td>\n",
       "      <td>72</td>\n",
       "      <td>35</td>\n",
       "      <td>0</td>\n",
       "      <td>33.6</td>\n",
       "      <td>0.627</td>\n",
       "      <td>50</td>\n",
       "      <td>1</td>\n",
       "    </tr>\n",
       "    <tr>\n",
       "      <th>1</th>\n",
       "      <td>1</td>\n",
       "      <td>85</td>\n",
       "      <td>66</td>\n",
       "      <td>29</td>\n",
       "      <td>0</td>\n",
       "      <td>26.6</td>\n",
       "      <td>0.351</td>\n",
       "      <td>31</td>\n",
       "      <td>0</td>\n",
       "    </tr>\n",
       "    <tr>\n",
       "      <th>2</th>\n",
       "      <td>8</td>\n",
       "      <td>183</td>\n",
       "      <td>64</td>\n",
       "      <td>0</td>\n",
       "      <td>0</td>\n",
       "      <td>23.3</td>\n",
       "      <td>0.672</td>\n",
       "      <td>32</td>\n",
       "      <td>1</td>\n",
       "    </tr>\n",
       "    <tr>\n",
       "      <th>3</th>\n",
       "      <td>1</td>\n",
       "      <td>89</td>\n",
       "      <td>66</td>\n",
       "      <td>23</td>\n",
       "      <td>94</td>\n",
       "      <td>28.1</td>\n",
       "      <td>0.167</td>\n",
       "      <td>21</td>\n",
       "      <td>0</td>\n",
       "    </tr>\n",
       "    <tr>\n",
       "      <th>4</th>\n",
       "      <td>0</td>\n",
       "      <td>137</td>\n",
       "      <td>40</td>\n",
       "      <td>35</td>\n",
       "      <td>168</td>\n",
       "      <td>43.1</td>\n",
       "      <td>2.288</td>\n",
       "      <td>33</td>\n",
       "      <td>1</td>\n",
       "    </tr>\n",
       "  </tbody>\n",
       "</table>\n",
       "</div>"
      ],
      "text/plain": [
       "   Pregnancies  Glucose  BloodPressure  SkinThickness  Insulin   BMI  \\\n",
       "0            6      148             72             35        0  33.6   \n",
       "1            1       85             66             29        0  26.6   \n",
       "2            8      183             64              0        0  23.3   \n",
       "3            1       89             66             23       94  28.1   \n",
       "4            0      137             40             35      168  43.1   \n",
       "\n",
       "   DiabetesPedigreeFunction  Age  Outcome  \n",
       "0                     0.627   50        1  \n",
       "1                     0.351   31        0  \n",
       "2                     0.672   32        1  \n",
       "3                     0.167   21        0  \n",
       "4                     2.288   33        1  "
      ]
     },
     "execution_count": 3,
     "metadata": {},
     "output_type": "execute_result"
    }
   ],
   "source": [
    "#اضافه کردن کتابخانه ها\n",
    "#def Smart_health():\n",
    "import numpy as np\n",
    "import matplotlib.pyplot as plt\n",
    "import pandas as pd\n",
    "import re\n",
    "import sklearn\n",
    "#import plotly.offline as py\n",
    "#import plotly.graph_objs as go\n",
    "#import plotly.tools as tls\n",
    "import seaborn as sns\n",
    "from sklearn.model_selection import cross_val_score\n",
    "from sklearn.model_selection import train_test_split\n",
    "from sklearn.ensemble import VotingClassifier\n",
    "from sklearn import ensemble\n",
    "from sklearn.ensemble import RandomForestClassifier\n",
    "from sklearn.neighbors import KNeighborsClassifier\n",
    "from sklearn.neural_network import MLPClassifier\n",
    "from sklearn.ensemble import AdaBoostClassifier\n",
    "from sklearn import tree\n",
    "from sklearn.naive_bayes import GaussianNB\n",
    "from sklearn.ensemble import GradientBoostingClassifier\n",
    "from sklearn import svm\n",
    "from sklearn.ensemble import ExtraTreesClassifier    \n",
    "from sklearn import model_selection\n",
    "from sklearn.ensemble import VotingClassifier\n",
    "from sklearn.model_selection import cross_val_score\n",
    "from sklearn import model_selection\n",
    "from sklearn.cross_validation import KFold\n",
    "%matplotlib inline\n",
    "Diabetic=pd.read_csv('Diabetic.csv')\n",
    "#return \n",
    "Diabetic.head()\n",
    "\n",
    "#Smart_health()"
   ]
  },
  {
   "cell_type": "code",
   "execution_count": 4,
   "metadata": {},
   "outputs": [
    {
     "name": "stdout",
     "output_type": "stream",
     "text": [
      "(array([0, 1], dtype=int64), array([500, 268], dtype=int64))\n"
     ]
    }
   ],
   "source": [
    "print(np.unique(Diabetic.Outcome ,return_counts=True))"
   ]
  },
  {
   "cell_type": "code",
   "execution_count": 5,
   "metadata": {},
   "outputs": [],
   "source": [
    "#Train , Test\n",
    "X=Diabetic[['Pregnancies','Glucose','BloodPressure','SkinThickness','Insulin','BMI','DiabetesPedigreeFunction','Age']]\n",
    "y=Diabetic['Outcome']\n",
    "X_train,X_test,y_train,y_test=train_test_split(X,y,test_size=0.3,random_state=0)"
   ]
  },
  {
   "cell_type": "code",
   "execution_count": 6,
   "metadata": {},
   "outputs": [
    {
     "name": "stdout",
     "output_type": "stream",
     "text": [
      "number of training data:537\n",
      "number of test data:231\n"
     ]
    }
   ],
   "source": [
    "#مشاهده تعدادداده های تست و آموزش\n",
    "print('number of training data:%d'% X_train.shape[0])\n",
    "print('number of test data:%d'% X_test.shape[0])"
   ]
  },
  {
   "cell_type": "code",
   "execution_count": 7,
   "metadata": {},
   "outputs": [
    {
     "name": "stdout",
     "output_type": "stream",
     "text": [
      "Train: (537, 8)\n",
      "Test : (231, 8)\n"
     ]
    }
   ],
   "source": [
    "print(\"Train:\",X_train.shape)\n",
    "print(\"Test :\",X_test.shape)"
   ]
  },
  {
   "cell_type": "code",
   "execution_count": 8,
   "metadata": {},
   "outputs": [
    {
     "data": {
      "text/plain": [
       "Pregnancies                 0\n",
       "Glucose                     0\n",
       "BloodPressure               0\n",
       "SkinThickness               0\n",
       "Insulin                     0\n",
       "BMI                         0\n",
       "DiabetesPedigreeFunction    0\n",
       "Age                         0\n",
       "Outcome                     0\n",
       "dtype: int64"
      ]
     },
     "execution_count": 8,
     "metadata": {},
     "output_type": "execute_result"
    }
   ],
   "source": [
    "#تعداد داده های نامعتیر برای هر فیچر\n",
    "Diabetic.isnull().sum()"
   ]
  },
  {
   "cell_type": "code",
   "execution_count": 9,
   "metadata": {},
   "outputs": [
    {
     "data": {
      "text/plain": [
       "0    500\n",
       "1    268\n",
       "Name: Outcome, dtype: int64"
      ]
     },
     "execution_count": 9,
     "metadata": {},
     "output_type": "execute_result"
    }
   ],
   "source": [
    "Diabetic.Outcome.value_counts()"
   ]
  },
  {
   "cell_type": "code",
   "execution_count": 10,
   "metadata": {},
   "outputs": [
    {
     "data": {
      "image/png": "[encoded data removed]",
      "text/plain": [
       "<Figure size 432x288 with 9 Axes>"
      ]
     },
     "metadata": {
      "needs_background": "light"
     },
     "output_type": "display_data"
    }
   ],
   "source": [
    "#Histogram\n",
    "Diabetic.hist(sharex=False,sharey=False,xlabelsize=1,ylabelsize=1)\n",
    "plt.show()"
   ]
  },
  {
   "cell_type": "code",
   "execution_count": 11,
   "metadata": {},
   "outputs": [
    {
     "data": {
      "image/png": "[encoded data removed]",
      "text/plain": [
       "<Figure size 432x288 with 9 Axes>"
      ]
     },
     "metadata": {
      "needs_background": "light"
     },
     "output_type": "display_data"
    }
   ],
   "source": [
    "#Density\n",
    "Diabetic.plot(kind='density',subplots=True,layout=(3,3),sharex=False,sharey=False,fontsize=3)\n",
    "plt.show()"
   ]
  },
  {
   "cell_type": "code",
   "execution_count": 12,
   "metadata": {},
   "outputs": [
    {
     "data": {
      "text/plain": [
       "RandomForestClassifier(bootstrap=True, class_weight=None, criterion='gini',\n",
       "            max_depth=None, max_features='auto', max_leaf_nodes=None,\n",
       "            min_impurity_decrease=0.0, min_impurity_split=None,\n",
       "            min_samples_leaf=1, min_samples_split=2,\n",
       "            min_weight_fraction_leaf=0.0, n_estimators=12, n_jobs=1,\n",
       "            oob_score=False, random_state=None, verbose=0,\n",
       "            warm_start=False)"
      ]
     },
     "execution_count": 12,
     "metadata": {},
     "output_type": "execute_result"
    }
   ],
   "source": [
    "#load Import Libarary for Machine Learning Algorithm\n",
    "from sklearn.ensemble import RandomForestClassifier\n",
    "rfc=RandomForestClassifier(n_estimators=12)\n",
    "rfc.fit(X,y)"
   ]
  },
  {
   "cell_type": "code",
   "execution_count": 13,
   "metadata": {},
   "outputs": [
    {
     "data": {
      "text/plain": [
       "KNeighborsClassifier(algorithm='auto', leaf_size=738, metric='minkowski',\n",
       "           metric_params=None, n_jobs=1, n_neighbors=2, p=1,\n",
       "           weights='uniform')"
      ]
     },
     "execution_count": 13,
     "metadata": {},
     "output_type": "execute_result"
    }
   ],
   "source": [
    "from sklearn.neighbors import KNeighborsClassifier\n",
    "knn=KNeighborsClassifier(n_neighbors=2,p=1,leaf_size=738)\n",
    "knn.fit(X_train,y_train)"
   ]
  },
  {
   "cell_type": "code",
   "execution_count": 14,
   "metadata": {},
   "outputs": [
    {
     "data": {
      "text/plain": [
       "MLPClassifier(activation='relu', alpha=0.01, batch_size='auto', beta_1=0.9,\n",
       "       beta_2=0.999, early_stopping=False, epsilon=1e-08,\n",
       "       hidden_layer_sizes=(100,), learning_rate='constant',\n",
       "       learning_rate_init=0.001, max_iter=200, momentum=0.9,\n",
       "       nesterovs_momentum=True, power_t=0.5, random_state=None,\n",
       "       shuffle=False, solver='adam', tol=0.0001, validation_fraction=0.9,\n",
       "       verbose=False, warm_start=False)"
      ]
     },
     "execution_count": 14,
     "metadata": {},
     "output_type": "execute_result"
    }
   ],
   "source": [
    "from sklearn.neural_network import MLPClassifier\n",
    "MLP=MLPClassifier(alpha=0.01,hidden_layer_sizes=(100,),validation_fraction=0.9,shuffle=False)\n",
    "MLP.fit(X,y)"
   ]
  },
  {
   "cell_type": "code",
   "execution_count": 15,
   "metadata": {},
   "outputs": [
    {
     "data": {
      "text/plain": [
       "AdaBoostClassifier(algorithm='SAMME.R', base_estimator=None,\n",
       "          learning_rate=1.0, n_estimators=67, random_state=None)"
      ]
     },
     "execution_count": 15,
     "metadata": {},
     "output_type": "execute_result"
    }
   ],
   "source": [
    "from sklearn.ensemble import AdaBoostClassifier\n",
    "ABC=AdaBoostClassifier(n_estimators=67)\n",
    "ABC.fit(X,y)"
   ]
  },
  {
   "cell_type": "code",
   "execution_count": 16,
   "metadata": {},
   "outputs": [
    {
     "data": {
      "text/plain": [
       "DecisionTreeClassifier(class_weight=None, criterion='gini', max_depth=None,\n",
       "            max_features=None, max_leaf_nodes=None,\n",
       "            min_impurity_decrease=0.0, min_impurity_split=None,\n",
       "            min_samples_leaf=1, min_samples_split=2,\n",
       "            min_weight_fraction_leaf=0.0, presort=False, random_state=60,\n",
       "            splitter='best')"
      ]
     },
     "execution_count": 16,
     "metadata": {},
     "output_type": "execute_result"
    }
   ],
   "source": [
    "from sklearn.tree import DecisionTreeClassifier\n",
    "DTree=tree.DecisionTreeClassifier(criterion='gini',random_state=60)\n",
    "DTree.fit(X,y)"
   ]
  },
  {
   "cell_type": "code",
   "execution_count": 17,
   "metadata": {},
   "outputs": [
    {
     "data": {
      "text/plain": [
       "GaussianNB(priors=None)"
      ]
     },
     "execution_count": 17,
     "metadata": {},
     "output_type": "execute_result"
    }
   ],
   "source": [
    "from sklearn.naive_bayes import GaussianNB\n",
    "GNB=GaussianNB()\n",
    "GNB.fit(X_train,y_train)"
   ]
  },
  {
   "cell_type": "code",
   "execution_count": 18,
   "metadata": {},
   "outputs": [
    {
     "data": {
      "text/plain": [
       "GradientBoostingClassifier(criterion='friedman_mse', init=None,\n",
       "              learning_rate=0.1, loss='deviance', max_depth=11,\n",
       "              max_features=None, max_leaf_nodes=None,\n",
       "              min_impurity_decrease=0.0, min_impurity_split=None,\n",
       "              min_samples_leaf=2, min_samples_split=2,\n",
       "              min_weight_fraction_leaf=0.0, n_estimators=4, presort='auto',\n",
       "              random_state=2, subsample=1.0, verbose=0, warm_start=False)"
      ]
     },
     "execution_count": 18,
     "metadata": {},
     "output_type": "execute_result"
    }
   ],
   "source": [
    "from sklearn.ensemble import GradientBoostingClassifier\n",
    "gbc=GradientBoostingClassifier(n_estimators=4,max_depth=11,random_state=2,min_samples_leaf=2)\n",
    "gbc.fit(X_train,y_train)"
   ]
  },
  {
   "cell_type": "code",
   "execution_count": 19,
   "metadata": {},
   "outputs": [
    {
     "data": {
      "text/plain": [
       "SVC(C=1.0, cache_size=200, class_weight=None, coef0=0.0,\n",
       "  decision_function_shape='ovr', degree=3, gamma='auto', kernel='rbf',\n",
       "  max_iter=-1, probability=True, random_state=None, shrinking=True,\n",
       "  tol=0.001, verbose=False)"
      ]
     },
     "execution_count": 19,
     "metadata": {},
     "output_type": "execute_result"
    }
   ],
   "source": [
    "from sklearn import svm\n",
    "SVM=svm.SVC(kernel='rbf', probability=True)\n",
    "SVM.fit(X_train,y_train)"
   ]
  },
  {
   "cell_type": "code",
   "execution_count": 20,
   "metadata": {},
   "outputs": [
    {
     "data": {
      "text/plain": [
       "ExtraTreesClassifier(bootstrap=False, class_weight=None, criterion='gini',\n",
       "           max_depth=3, max_features='auto', max_leaf_nodes=None,\n",
       "           min_impurity_decrease=0.0, min_impurity_split=None,\n",
       "           min_samples_leaf=1, min_samples_split=2,\n",
       "           min_weight_fraction_leaf=0.0, n_estimators=100, n_jobs=-1,\n",
       "           oob_score=False, random_state=0, verbose=0, warm_start=False)"
      ]
     },
     "execution_count": 20,
     "metadata": {},
     "output_type": "execute_result"
    }
   ],
   "source": [
    "from sklearn.ensemble import ExtraTreesClassifier\n",
    "ETC=ExtraTreesClassifier(random_state = 0, n_jobs = -1, n_estimators = 100, max_depth = 3)\n",
    "ETC.fit(X_train,y_train)"
   ]
  },
  {
   "cell_type": "code",
   "execution_count": 21,
   "metadata": {},
   "outputs": [],
   "source": [
    "#from catboost import CatBoostClassifier\n",
    "#Cbc = CatBoostClassifier()\n",
    "#Cbc.fit(X,y)\n",
    "#print(Cbc.score(X_train,y_train))"
   ]
  },
  {
   "cell_type": "code",
   "execution_count": 22,
   "metadata": {},
   "outputs": [
    {
     "name": "stdout",
     "output_type": "stream",
     "text": [
      "[1] scores for RFC= 0.7356506238859181\n",
      "[2] scores for Knn= 0.710966810966811\n",
      "[3] scores for MLP= 0.657516339869281\n",
      "[4] sscores for ABC= 0.7551990493166963\n",
      "[5] scores for DTree= 0.6966386554621848\n",
      "[6] scores for GNB= 0.7486885663356252\n",
      "[7] scores for gbc= 0.7148714031066973\n",
      "[8] scores for SVM= 0.6510398098633393\n",
      "[9] scores for ETC= 0.6823444529326883\n",
      "time= 7.703984260559082\n"
     ]
    }
   ],
   "source": [
    "#Cross_Validation\n",
    "#def Cross_Validation(): \n",
    "import time\n",
    "start=time.time()\n",
    "\n",
    "from sklearn.model_selection import cross_val_score \n",
    "from sklearn import model_selection \n",
    "kfold = model_selection.KFold(n_splits=5, shuffle=True)\n",
    "\n",
    "scores_RFC= cross_val_score(rfc, X, y,cv=kfold) \n",
    "print('[1]','scores for RFC=',scores_RFC.mean())\n",
    "\n",
    "scores_knn= cross_val_score(knn, X, y,cv=kfold) \n",
    "print('[2]','scores for Knn=',scores_knn.mean())\n",
    "\n",
    "scores_MLP= cross_val_score(MLP, X, y,cv=kfold) \n",
    "print('[3]','scores for MLP=',scores_MLP.mean())\n",
    "\n",
    "scores_ABC= cross_val_score(ABC, X, y,cv=kfold) \n",
    "print('[4]','sscores for ABC=',scores_ABC.mean())\n",
    "\n",
    "scores_DTree= cross_val_score(DTree, X, y,cv=kfold) \n",
    "print('[5]','scores for DTree=',scores_DTree.mean())\n",
    "\n",
    "scores_GNB= cross_val_score(GNB, X, y,cv=kfold) \n",
    "print('[6]','scores for GNB=',scores_GNB.mean())\n",
    "\n",
    "scores_gbc= cross_val_score(gbc, X, y,cv=kfold) \n",
    "print('[7]','scores for gbc=',scores_gbc.mean())\n",
    "\n",
    "scores_SVM= cross_val_score(SVM, X, y,cv=kfold) \n",
    "print('[8]','scores for SVM=',scores_SVM.mean())\n",
    "\n",
    "scores_ETC= cross_val_score(ETC, X, y,cv=kfold) \n",
    "print('[9]','scores for ETC=',scores_ETC.mean())\n",
    "\n",
    "\n",
    "\n",
    "end=time.time()\n",
    "print(\"time=\",end-start)\n",
    "#Cross_Vlidation()"
   ]
  },
  {
   "cell_type": "code",
   "execution_count": 23,
   "metadata": {},
   "outputs": [
    {
     "name": "stderr",
     "output_type": "stream",
     "text": [
      "No handles with labels found to put in legend.\n"
     ]
    },
    {
     "data": {
      "image/png": "[encoded data removed]",
      "text/plain": [
       "<Figure size 432x288 with 1 Axes>"
      ]
     },
     "metadata": {
      "needs_background": "light"
     },
     "output_type": "display_data"
    }
   ],
   "source": [
    "import matplotlib.pyplot as plt\n",
    "#values=[scores_RFC.mean,scores_knn.mean,scores_MLP.mean,scores_ABC.mean,scores_DTree.mean,\n",
    "                        #scores_GNB.mean,scores_gbc.mean,scores_SVM.mean,scores_ETC.mean]\n",
    "\n",
    "Values=[0.68,0.70,0.50,0.65,0.67,0.71,0.61,0.64,0.68]\n",
    "\n",
    "labels=['RFC','Knn','MLP','ABC','DTree','GNB','gbc','SVM','ETC']\n",
    "xs=[i for i,_ in enumerate(labels)]\n",
    "plt.bar(xs,Values)\n",
    "plt.xticks(xs,labels)\n",
    "plt.title('Accurcay With Cross_Vlidation')\n",
    "plt.xlabel('Algoritm ML')\n",
    "plt.ylabel('Accuracy')\n",
    "plt.legend(loc='lower right')\n",
    "plt.show()"
   ]
  },
  {
   "cell_type": "code",
   "execution_count": 24,
   "metadata": {
    "scrolled": true
   },
   "outputs": [
    {
     "name": "stdout",
     "output_type": "stream",
     "text": [
      "RFC For tset= 0.9913419913419913\n",
      "RFC For train= 0.9795158286778398\n",
      "\n",
      " KNN For tset= 0.7012987012987013\n",
      "KNN For train= 0.8417132216014898\n",
      "\n",
      " MLP For Train= 0.7243947858472998\n",
      "MLP For Test= 0.7402597402597403\n",
      "\n",
      " AdaBoC For Train= 0.8342644320297952\n",
      "AdaBoC For Test= 0.8311688311688312\n",
      "\n",
      " TREE For Train= 1.0\n",
      "TREE For Test= 1.0\n",
      "\n",
      " GaussianNB For Train= 0.7672253258845437\n",
      "GaussianNB For Test= 0.7619047619047619\n",
      "\n",
      " GradientBoosting For Train= 0.9478584729981379\n",
      "GradientBoosting For Test= 0.696969696969697\n",
      "\n",
      " SVM For Train= 1.0\n",
      "SVM For Test= 0.6796536796536796\n",
      "\n",
      " ETC For Train= 0.7001862197392924\n",
      "ETC For Test= 0.7229437229437229\n",
      "time= 0.405925989151001\n"
     ]
    }
   ],
   "source": [
    "#Holdout\n",
    "import time\n",
    "start=time.time()\n",
    "def Assessment_Diag_Diabetes():\n",
    "    print('RFC For tset=',rfc.score(X_test,y_test))\n",
    "    print('RFC For train=',rfc.score(X_train,y_train))\n",
    "    print('\\n','KNN For tset=',knn.score(X_test,y_test))\n",
    "    print('KNN For train=',knn.score(X_train,y_train))\n",
    "    print('\\n','MLP For Train=',MLP.score(X_train,y_train))\n",
    "    print('MLP For Test=',MLP.score(X_test,y_test))\n",
    "    print('\\n','AdaBoC For Train=',ABC.score(X_train,y_train))\n",
    "    print('AdaBoC For Test=',ABC.score(X_test,y_test))\n",
    "    print('\\n','TREE For Train=',DTree.score(X_train,y_train))\n",
    "    print('TREE For Test=',DTree.score(X_test,y_test))\n",
    "    print('\\n','GaussianNB For Train=',GNB.score(X_train,y_train))\n",
    "    print('GaussianNB For Test=',GNB.score(X_test,y_test))\n",
    "    print('\\n','GradientBoosting For Train=',gbc.score(X_train,y_train))\n",
    "    print('GradientBoosting For Test=',gbc.score(X_test,y_test))\n",
    "    print('\\n','SVM For Train=',SVM.score(X_train,y_train))\n",
    "    print('SVM For Test=',SVM.score(X_test,y_test))\n",
    "    \n",
    "    print('\\n','ETC For Train=',ETC.score(X_train,y_train))\n",
    "    print('ETC For Test=',ETC.score(X_test,y_test))\n",
    "    \n",
    "Assessment_Diag_Diabetes()\n",
    "end=time.time()\n",
    "print(\"time=\",end-start)"
   ]
  },
  {
   "cell_type": "code",
   "execution_count": 25,
   "metadata": {
    "scrolled": true
   },
   "outputs": [
    {
     "name": "stderr",
     "output_type": "stream",
     "text": [
      "No handles with labels found to put in legend.\n",
      "No handles with labels found to put in legend.\n"
     ]
    },
    {
     "data": {
      "image/png": "[encoded data removed]",
      "text/plain": [
       "<Figure size 864x720 with 2 Axes>"
      ]
     },
     "metadata": {
      "needs_background": "light"
     },
     "output_type": "display_data"
    }
   ],
   "source": [
    "%matplotlib inline\n",
    "import matplotlib.pyplot as plt\n",
    "python_course_green = \"#476042\"\n",
    "plt.figure(figsize=(12, 10))\n",
    "plt.subplot(221) # equivalent to: plt.subplot(2, 2, 1)\n",
    "\n",
    "Test=[0.85,0.83,0.73,0.80,0.85,0.75,0.82,0.70,0.68]\n",
    "labels=['RFC','Knn','MLP','ABC','DTree','GNB','gbc','SVM','ETC']\n",
    "xs=[i for i,_ in enumerate(labels)]\n",
    "plt.bar(xs,Test)\n",
    "plt.xticks(xs,labels)\n",
    "plt.title('Tset Data With Holdout')\n",
    "plt.xlabel('Algoritm ML')\n",
    "plt.ylabel('Accuracy')\n",
    "plt.legend(loc='lower right')\n",
    "\n",
    "\n",
    "\n",
    "plt.subplot(222)\n",
    "\n",
    "\n",
    "Train=[0.85,0.83,0.73,0.82,0.85,0.83,0.84,0.75,0.70]\n",
    "labels=['RFC','Knn','MLP','ABC','DTree','GNB','gbc','SVM','ETC']\n",
    "xs=[i for i,_ in enumerate(labels)]\n",
    "plt.bar(xs,Train)\n",
    "plt.xticks(xs,labels)\n",
    "plt.title('Train Data With Holdout ')\n",
    "plt.xlabel('Algoritm ML')\n",
    "plt.ylabel('Accuracy')\n",
    "plt.legend(loc='lower right')\n",
    "\n",
    "\n",
    "\n",
    "plt.plot()\n",
    "plt.show()"
   ]
  },
  {
   "cell_type": "code",
   "execution_count": 26,
   "metadata": {},
   "outputs": [
    {
     "name": "stdout",
     "output_type": "stream",
     "text": [
      "[1] RFC= [1]\n",
      "[2] MLP= [1]\n",
      "[3] knn= [1]\n",
      "[4] AdaBoost= [1]\n",
      "[5] Tree= [1]\n",
      "[6] GaussianNB= [1]\n",
      "[7] GradientBoosting= [0]\n",
      "[8] SVM= [0]\n",
      "[9] ETC= [0]\n",
      "\n",
      " info=\n",
      "0==no Daibetic And 1== has diabetic\n",
      "[('RandomForestClassifier', [1]), ('KNeighborsClassifier', [1]), ('MLPClassifier', [1]), ('AdaBoostClassifier', [1]), ('tree', [1]), ('GaussianNB', [1]), ('GradientBoostingClassifier', [0]), ('svm', [0]), ('ExtraTreesClassifier', [0])]\n",
      "time= 0.13995695114135742\n"
     ]
    }
   ],
   "source": [
    "#پیش بینی براساس نمونه های جدید به منظور تست الگوریتم ها در تشخیص بیماری\n",
    "import time\n",
    "start=time.time()\n",
    "def predictor_Diabetes():\n",
    "    Diabetic_prediction_rfc=rfc.predict([[11,12,2,4,32,34,23,34]]) \n",
    "    lookup_Diabetic_name_rfc=[Diabetic_prediction_rfc[0]]\n",
    "    print('[1]','RFC=',lookup_Diabetic_name_rfc)\n",
    "    \n",
    "    Diabetic_prediction_MLP=MLP.predict([[11,12,2,4,32,34,23,34]])\n",
    "    lookup_Diabetic_name_MLP=[Diabetic_prediction_MLP[0]]\n",
    "    print('[2]','MLP=',lookup_Diabetic_name_MLP)\n",
    "    \n",
    "    Diabetic_prediction_knn=knn.predict([[11,12,2,4,32,34,23,34]])\n",
    "    lookup_Diabetic_name_knn=[Diabetic_prediction_MLP[0]]\n",
    "    print('[3]','knn=',lookup_Diabetic_name_knn)\n",
    "    \n",
    "    \n",
    "    Diabetic_prediction_ABC=ABC.predict([[11,12,2,4,32,34,23,34]])\n",
    "    lookup_Diabetic_name_ABC=[Diabetic_prediction_ABC[0]]\n",
    "    print('[4]','AdaBoost=',lookup_Diabetic_name_ABC)\n",
    "    \n",
    "    Diabetic_prediction_TREE=DTree.predict([[11,12,2,4,32,34,23,34]])\n",
    "    lookup_Diabetic_name_TREE=[Diabetic_prediction_TREE[0]]\n",
    "    print('[5]','Tree=',lookup_Diabetic_name_TREE)\n",
    "    \n",
    "    Diabetic_prediction_GNB=GNB.predict([[11,12,2,4,32,34,23,34]])\n",
    "    lookup_Diabetic_name_GNB=[Diabetic_prediction_GNB[0]]\n",
    "    print('[6]','GaussianNB=',lookup_Diabetic_name_GNB)\n",
    "    \n",
    "    Diabetic_prediction_GradientBoosting=gbc.predict([[11,12,2,4,32,34,23,34]])\n",
    "    lookup_Diabetic_name_GBC=[Diabetic_prediction_GradientBoosting[0]]\n",
    "    print('[7]','GradientBoosting=',lookup_Diabetic_name_GBC)\n",
    "    \n",
    "    \n",
    "    Diabetic_prediction_SVM=SVM.predict([[11,12,2,4,32,34,23,34]])\n",
    "    lookup_Diabetic_name_SVM=[Diabetic_prediction_SVM[0]]\n",
    "    print('[8]','SVM=',lookup_Diabetic_name_SVM)\n",
    "    \n",
    "    \n",
    "    Diabetic_prediction_ETC=ETC.predict([[11,12,2,4,32,34,23,34]]) \n",
    "    lookup_Diabetic_name_ETC=[Diabetic_prediction_ETC[0]]\n",
    "    print('[9]','ETC=',lookup_Diabetic_name_ETC)\n",
    "    \n",
    "    print('\\n','info=')\n",
    "    #valuelist=[lookup_Diabetic_name_rfc,lookup_Diabetic_name_MLP,lookup_Diabetic_name_knn,lookup_Diabetic_name_ABC,lookup_Diabetic_name_TREE,\n",
    "               #lookup_Diabetic_name_GNB,lookup_Diabetic_name_GBC,lookup_Diabetic_name_SVM,lookup_Diabetic_name_ETC]\n",
    "    #print(valuelist)\n",
    "    print('0==no Daibetic And 1== has diabetic')\n",
    "    \n",
    "    estimators=[]\n",
    "    estimators.append(('RandomForestClassifier', lookup_Diabetic_name_rfc))\n",
    "    estimators.append(('KNeighborsClassifier', lookup_Diabetic_name_MLP))\n",
    "    estimators.append(('MLPClassifier', lookup_Diabetic_name_knn))\n",
    "    estimators.append(('AdaBoostClassifier', lookup_Diabetic_name_ABC))\n",
    "    estimators.append(('tree', lookup_Diabetic_name_TREE))\n",
    "    estimators.append(('GaussianNB', lookup_Diabetic_name_GNB))\n",
    "    estimators.append(('GradientBoostingClassifier', lookup_Diabetic_name_GBC))\n",
    "    estimators.append(('svm', lookup_Diabetic_name_SVM))\n",
    "    estimators.append(('ExtraTreesClassifier', lookup_Diabetic_name_ETC))\n",
    "    print(estimators)\n",
    "\n",
    "# create the ensemble model\n",
    "    #ensemble = VotingClassifier(estimators)\n",
    "    #results = model_selection.cross_val_score(ensemble, X, y, cv=kfold)\n",
    "    #print(results.mean())\n",
    "    \n",
    "    \n",
    "    \n",
    "    \n",
    "    \n",
    "    \n",
    "predictor_Diabetes()\n",
    "\n",
    "end=time.time()\n",
    "print(\"time=\",end-start)"
   ]
  },
  {
   "cell_type": "code",
   "execution_count": 27,
   "metadata": {},
   "outputs": [
    {
     "name": "stdout",
     "output_type": "stream",
     "text": [
      "[1] accuracy for RandomForestClassifier =0.99\n",
      "[2] accuracy for KNeighborsClassifier =0.70\n",
      "[3] accuracy for MLPClassifier =0.74\n",
      "[4] accuracy for AdaBoostClassifier =0.83\n",
      "[5] accuracy for tree =1.00\n",
      "[6] accuracy for GaussianNB =0.76\n",
      "[7] accuracy for GradientBoostingClassifier =0.70\n",
      "[8] accuracy for Support Vector Machine =0.68\n",
      "[9] accuracy for ExtraTreesClassifier =0.72\n",
      "\n",
      "\n",
      "info= ['RFC=', 0.9913419913419913, 'KNN=', 0.7012987012987013, 'MLP=', 0.7402597402597403, 'AdaBoostC=', 0.8311688311688312, 'Dtree=', 1.0, 'GNB=', 0.7619047619047619, 'gbc=', 0.696969696969697, 'SVM=', 0.6796536796536796, 'ETC=', 0.7229437229437229]\n",
      "time= 0.8807744979858398\n"
     ]
    }
   ],
   "source": [
    "#این مرحله،مرحله دقت تشخیص پیش بینی می بشد\n",
    "import time\n",
    "start=time.time()\n",
    "from sklearn.cross_validation import KFold\n",
    "from sklearn.model_selection import cross_val_score\n",
    "from sklearn.discriminant_analysis import LinearDiscriminantAnalysis\n",
    "from matplotlib import pyplot\n",
    "def Diag_Diabetes():\n",
    "    import numpy as np\n",
    "    predicted=rfc.predict(X_test)\n",
    "    accurace_rfc=np.mean(predicted==y_test)\n",
    "    print('[1]','accuracy for RandomForestClassifier =%.2f'%accurace_rfc)\n",
    "    \n",
    "    predicted=knn.predict(X_test)\n",
    "    accurace_knn=np.mean(predicted==y_test)\n",
    "    print('[2]','accuracy for KNeighborsClassifier =%.2f'%accurace_knn)\n",
    "    \n",
    "    \n",
    "    predicted=MLP.predict(X_test)\n",
    "    accurace_MLP=np.mean(predicted==y_test)\n",
    "    print('[3]','accuracy for MLPClassifier =%.2f'%accurace_MLP)\n",
    "    \n",
    "    predicted=ABC.predict(X_test)\n",
    "    accurace_ABC=np.mean(predicted==y_test)\n",
    "    print('[4]','accuracy for AdaBoostClassifier =%.2f'%accurace_ABC)\n",
    "    \n",
    "    \n",
    "    predicted=DTree.predict(X_test)\n",
    "    accurace_Dtree=np.mean(predicted==y_test)\n",
    "    print('[5]','accuracy for tree =%.2f'%accurace_Dtree)\n",
    "    \n",
    "    \n",
    "    predicted=GNB.predict(X_test)\n",
    "    accurace_GNB=np.mean(predicted==y_test)\n",
    "    print('[6]','accuracy for GaussianNB =%.2f'%accurace_GNB)\n",
    "    \n",
    "    \n",
    "    predicted=gbc.predict(X_test)\n",
    "    accurace_gbc=np.mean(predicted==y_test)\n",
    "    print('[7]','accuracy for GradientBoostingClassifier =%.2f'%accurace_gbc)\n",
    "    \n",
    "    predicted=SVM.predict(X_test)\n",
    "    accurace_SVM=np.mean(predicted==y_test)\n",
    "    print('[8]','accuracy for Support Vector Machine =%.2f'%accurace_SVM)\n",
    "    \n",
    "    predicted=ETC.predict(X_test)\n",
    "    accurace_ETC=np.mean(predicted==y_test)\n",
    "    print('[9]','accuracy for ExtraTreesClassifier =%.2f'%accurace_ETC)\n",
    "    \n",
    "    #لطفا یک لیست تعریف کنید و دقت هرالگوریتم را داخل لیست بگذارید تا براساس وزن گیری مشخص کنید کدوم الگوریتم نتجیه بهتری دارد...\n",
    "    print('\\n')\n",
    "    valuelist2=['RFC=',accurace_rfc,'KNN=',accurace_knn,'MLP=',accurace_MLP,'AdaBoostC=',accurace_ABC,'Dtree=',accurace_Dtree,\n",
    "    'GNB=',accurace_GNB,'gbc=',accurace_gbc,'SVM=',accurace_SVM,'ETC=',accurace_ETC]\n",
    "    print('info=',valuelist2)\n",
    "\n",
    "\n",
    "    #np.mean(valuelist2)\n",
    "    #np.median(valuelist2)\n",
    "    #np.std(valuelist2)\n",
    "    #np.var(valuelist2)\n",
    "    \n",
    "    #my_serice=pd.Series([accurace_rfc,accurace_knn],index=['RFC','KNN'])\n",
    "    #print(my_serice)\n",
    "    \n",
    "    \n",
    "    \n",
    "Diag_Diabetes() \n",
    "end=time.time()\n",
    "print(\"time=\",end-start)"
   ]
  },
  {
   "cell_type": "code",
   "execution_count": 28,
   "metadata": {},
   "outputs": [
    {
     "name": "stderr",
     "output_type": "stream",
     "text": [
      "No handles with labels found to put in legend.\n"
     ]
    },
    {
     "data": {
      "image/png": "[encoded data removed]",
      "text/plain": [
       "<Figure size 432x288 with 1 Axes>"
      ]
     },
     "metadata": {
      "needs_background": "light"
     },
     "output_type": "display_data"
    }
   ],
   "source": [
    "import matplotlib.pyplot as plt\n",
    "#values=[scores_RFC.mean,scores_knn.mean,scores_MLP.mean,scores_ABC.mean,scores_DTree.mean,\n",
    "                        #scores_GNB.mean,scores_gbc.mean,scores_SVM.mean,scores_ETC.mean]\n",
    "\n",
    "Values1=[0.93,0.83,0.90,0.92,0.93,0.83,0.80,0.70,0.80]\n",
    "\n",
    "labels1=['RFC','Knn','MLP','ABC','DTree','GNB','gbc','SVM','ETC']\n",
    "xs=[i for i,_ in enumerate(labels1)]\n",
    "plt.bar(xs,Values1)\n",
    "plt.xticks(xs,labels1)\n",
    "plt.title('Accuracy For Predict ')\n",
    "plt.xlabel('Algoritm ML')\n",
    "plt.ylabel('Accuracy')\n",
    "plt.legend(loc='lower right')\n",
    "plt.show()"
   ]
  },
  {
   "cell_type": "code",
   "execution_count": 29,
   "metadata": {},
   "outputs": [
    {
     "name": "stdout",
     "output_type": "stream",
     "text": [
      "Accuracy: 0.76 (+/- 0.02) [RandomForestClassifier]\n",
      "Accuracy: 0.69 (+/- 0.04) [KNeighborsClassifier]\n",
      "Accuracy: 0.66 (+/- 0.03) [MLPClassifier]\n",
      "Accuracy: 0.76 (+/- 0.03) [AdaBoostClassifier]\n",
      "Accuracy: 0.71 (+/- 0.04) [tree]\n",
      "Accuracy: 0.75 (+/- 0.02) [GaussianNB]\n",
      "Accuracy: 0.71 (+/- 0.04) [GradientBoostingClassifier]\n",
      "Accuracy: 0.65 (+/- 0.00) [svm]\n",
      "Accuracy: 0.68 (+/- 0.02) [ExtraTreesClassifier]\n"
     ]
    },
    {
     "name": "stderr",
     "output_type": "stream",
     "text": [
      "C:\\ProgramData\\Anaconda3\\lib\\site-packages\\sklearn\\preprocessing\\label.py:151: DeprecationWarning: The truth value of an empty array is ambiguous. Returning False, but in future this will result in an error. Use `array.size > 0` to check that an array is not empty.\n",
      "  if diff:\n",
      "C:\\ProgramData\\Anaconda3\\lib\\site-packages\\sklearn\\preprocessing\\label.py:151: DeprecationWarning: The truth value of an empty array is ambiguous. Returning False, but in future this will result in an error. Use `array.size > 0` to check that an array is not empty.\n",
      "  if diff:\n",
      "C:\\ProgramData\\Anaconda3\\lib\\site-packages\\sklearn\\preprocessing\\label.py:151: DeprecationWarning: The truth value of an empty array is ambiguous. Returning False, but in future this will result in an error. Use `array.size > 0` to check that an array is not empty.\n",
      "  if diff:\n",
      "C:\\ProgramData\\Anaconda3\\lib\\site-packages\\sklearn\\preprocessing\\label.py:151: DeprecationWarning: The truth value of an empty array is ambiguous. Returning False, but in future this will result in an error. Use `array.size > 0` to check that an array is not empty.\n",
      "  if diff:\n",
      "C:\\ProgramData\\Anaconda3\\lib\\site-packages\\sklearn\\preprocessing\\label.py:151: DeprecationWarning: The truth value of an empty array is ambiguous. Returning False, but in future this will result in an error. Use `array.size > 0` to check that an array is not empty.\n",
      "  if diff:\n"
     ]
    },
    {
     "name": "stdout",
     "output_type": "stream",
     "text": [
      "Accuracy: 0.74 (+/- 0.03) [Ensemble]\n",
      "\n",
      " Voting Ensemble\n"
     ]
    },
    {
     "name": "stderr",
     "output_type": "stream",
     "text": [
      "C:\\ProgramData\\Anaconda3\\lib\\site-packages\\sklearn\\preprocessing\\label.py:151: DeprecationWarning: The truth value of an empty array is ambiguous. Returning False, but in future this will result in an error. Use `array.size > 0` to check that an array is not empty.\n",
      "  if diff:\n",
      "C:\\ProgramData\\Anaconda3\\lib\\site-packages\\sklearn\\preprocessing\\label.py:151: DeprecationWarning: The truth value of an empty array is ambiguous. Returning False, but in future this will result in an error. Use `array.size > 0` to check that an array is not empty.\n",
      "  if diff:\n",
      "C:\\ProgramData\\Anaconda3\\lib\\site-packages\\sklearn\\preprocessing\\label.py:151: DeprecationWarning: The truth value of an empty array is ambiguous. Returning False, but in future this will result in an error. Use `array.size > 0` to check that an array is not empty.\n",
      "  if diff:\n",
      "C:\\ProgramData\\Anaconda3\\lib\\site-packages\\sklearn\\preprocessing\\label.py:151: DeprecationWarning: The truth value of an empty array is ambiguous. Returning False, but in future this will result in an error. Use `array.size > 0` to check that an array is not empty.\n",
      "  if diff:\n",
      "C:\\ProgramData\\Anaconda3\\lib\\site-packages\\sklearn\\preprocessing\\label.py:151: DeprecationWarning: The truth value of an empty array is ambiguous. Returning False, but in future this will result in an error. Use `array.size > 0` to check that an array is not empty.\n",
      "  if diff:\n",
      "C:\\ProgramData\\Anaconda3\\lib\\site-packages\\sklearn\\preprocessing\\label.py:151: DeprecationWarning: The truth value of an empty array is ambiguous. Returning False, but in future this will result in an error. Use `array.size > 0` to check that an array is not empty.\n",
      "  if diff:\n",
      "C:\\ProgramData\\Anaconda3\\lib\\site-packages\\sklearn\\preprocessing\\label.py:151: DeprecationWarning: The truth value of an empty array is ambiguous. Returning False, but in future this will result in an error. Use `array.size > 0` to check that an array is not empty.\n",
      "  if diff:\n",
      "C:\\ProgramData\\Anaconda3\\lib\\site-packages\\sklearn\\preprocessing\\label.py:151: DeprecationWarning: The truth value of an empty array is ambiguous. Returning False, but in future this will result in an error. Use `array.size > 0` to check that an array is not empty.\n",
      "  if diff:\n",
      "C:\\ProgramData\\Anaconda3\\lib\\site-packages\\sklearn\\preprocessing\\label.py:151: DeprecationWarning: The truth value of an empty array is ambiguous. Returning False, but in future this will result in an error. Use `array.size > 0` to check that an array is not empty.\n",
      "  if diff:\n"
     ]
    },
    {
     "name": "stdout",
     "output_type": "stream",
     "text": [
      "0.7460013670539987\n",
      "time= 26.49630641937256\n"
     ]
    },
    {
     "name": "stderr",
     "output_type": "stream",
     "text": [
      "C:\\ProgramData\\Anaconda3\\lib\\site-packages\\sklearn\\preprocessing\\label.py:151: DeprecationWarning: The truth value of an empty array is ambiguous. Returning False, but in future this will result in an error. Use `array.size > 0` to check that an array is not empty.\n",
      "  if diff:\n"
     ]
    }
   ],
   "source": [
    "#رای گیری اکثریت به منظور یافتن بهترین نتیجه\n",
    "#Def Voting_Classfier():\n",
    "\n",
    "import time\n",
    "start=time.time()\n",
    "\n",
    "import pandas\n",
    "from sklearn.ensemble import RandomForestClassifier\n",
    "from sklearn.neighbors import KNeighborsClassifier\n",
    "from sklearn.neural_network import MLPClassifier\n",
    "from sklearn.ensemble import AdaBoostClassifier\n",
    "from sklearn import tree\n",
    "from sklearn.naive_bayes import GaussianNB\n",
    "from sklearn.ensemble import GradientBoostingClassifier\n",
    "from sklearn import svm\n",
    "from sklearn.ensemble import ExtraTreesClassifier\n",
    "    \n",
    "from sklearn import model_selection\n",
    "from sklearn.ensemble import VotingClassifier\n",
    "from sklearn.model_selection import cross_val_score\n",
    "from sklearn import model_selection\n",
    "kfold = model_selection.KFold(n_splits=10, random_state=True)\n",
    "\n",
    "    \n",
    "    \n",
    "estimators = []\n",
    "clf1 = RandomForestClassifier(random_state=1)\n",
    "clf2 = KNeighborsClassifier(n_neighbors=2,p=1,leaf_size=738)\n",
    "clf3 = MLPClassifier(alpha=0.01,hidden_layer_sizes=(100,),validation_fraction=0.9,shuffle=False)\n",
    "clf4 = AdaBoostClassifier(n_estimators=67)\n",
    "clf5 = tree.DecisionTreeClassifier(criterion='gini',random_state=60)\n",
    "clf6 = GaussianNB()\n",
    "clf7 = GradientBoostingClassifier(n_estimators=4,max_depth=11,random_state=2,min_samples_leaf=2)\n",
    "clf8 = svm.SVC()\n",
    "clf9 = ExtraTreesClassifier(random_state = 0, n_jobs = -1, n_estimators = 100, max_depth = 3)\n",
    "\n",
    "eclf = VotingClassifier(estimators=[('RF', clf1), ('KNN', clf2), ('MLP', clf3), ('Adaboost', clf4), ('tree', clf5)\n",
    "                                   , ('GNB', clf6), ('GBC', clf7), ('SVM', clf8), ('ETC', clf9)], voting='hard')\n",
    "for clf, label in zip([clf1, clf2, clf3, clf4, clf5, clf6, clf7, clf8, clf9\n",
    "        ,eclf], ['RandomForestClassifier', 'KNeighborsClassifier', 'MLPClassifier', 'AdaBoostClassifier'\n",
    "        , 'tree', 'GaussianNB', 'GradientBoostingClassifier', 'svm', 'ExtraTreesClassifier', 'Ensemble']):\n",
    "    \n",
    "    scores = cross_val_score(clf, X, y, cv=5, scoring='accuracy')\n",
    "    print(\"Accuracy: %0.2f (+/- %0.2f) [%s]\" % (scores.mean(), scores.std(), label))\n",
    "\n",
    "    \n",
    "print('\\n','Voting Ensemble')\n",
    "estimators.append(('RandomForestClassifier', clf1))\n",
    "estimators.append(('KNeighborsClassifier', clf2))\n",
    "estimators.append(('MLPClassifier', clf3))\n",
    "estimators.append(('AdaBoostClassifier', clf4))\n",
    "estimators.append(('tree', clf5))\n",
    "estimators.append(('GaussianNB', clf6))\n",
    "estimators.append(('GradientBoostingClassifier', clf7))\n",
    "estimators.append(('svm', clf8))\n",
    "estimators.append(('ExtraTreesClassifier', clf9))\n",
    "\n",
    "# create the ensemble model\n",
    "ensemble = VotingClassifier(estimators)\n",
    "results = model_selection.cross_val_score(ensemble, X, y, cv=kfold)\n",
    "print(results.mean())\n",
    "    \n",
    "end=time.time()\n",
    "print(\"time=\",end-start)\n",
    "#Voting_Classfier()"
   ]
  },
  {
   "cell_type": "code",
   "execution_count": 30,
   "metadata": {},
   "outputs": [
    {
     "name": "stderr",
     "output_type": "stream",
     "text": [
      "No handles with labels found to put in legend.\n"
     ]
    },
    {
     "data": {
      "image/png": "[encoded data removed]",
      "text/plain": [
       "<Figure size 2448x1008 with 1 Axes>"
      ]
     },
     "metadata": {
      "needs_background": "light"
     },
     "output_type": "display_data"
    }
   ],
   "source": [
    "%matplotlib inline\n",
    "import matplotlib.pyplot as plt\n",
    "python_course_green = \"#476042\"\n",
    "plt.figure(figsize=(34, 14))\n",
    "plt.subplot(221) # equivalent to: plt.subplot(2, 2, 1)\n",
    "\n",
    "Test=[0.76,0.69,0.67,0.76,0.71,0.75,0.71,0.65,0.68,0.74,0.74]\n",
    "labels=['RFC','Knn','MLP','ABC','DTree','GNB','gbc','SVM','ETC','Ensemble','Voting Ensemble']\n",
    "xs=[i for i,_ in enumerate(labels)]\n",
    "plt.bar(xs,Test)\n",
    "plt.xticks(xs,labels)\n",
    "plt.title('scores.mean')\n",
    "plt.xlabel('Algoritm ML')\n",
    "plt.ylabel('Accuracy')\n",
    "plt.legend(loc='lower right')\n",
    "\n",
    "\n",
    "plt.plot()\n",
    "plt.show()\n"
   ]
  },
  {
   "cell_type": "code",
   "execution_count": 31,
   "metadata": {},
   "outputs": [
    {
     "name": "stdout",
     "output_type": "stream",
     "text": [
      "time= 3.636869430541992\n"
     ]
    }
   ],
   "source": [
    "#میانگین گیری براساس وزن\n",
    "#Def Voting_Weight():\n",
    "import time\n",
    "start=time.time()\n",
    "from sklearn import model_selection\n",
    "from sklearn.ensemble import VotingClassifier\n",
    "from sklearn.model_selection import cross_val_score\n",
    "from sklearn import model_selection\n",
    "kfold = model_selection.KFold(n_splits=10, random_state=True)\n",
    "    \n",
    "from sklearn.ensemble import RandomForestClassifier\n",
    "from sklearn.neighbors import KNeighborsClassifier\n",
    "from sklearn.neural_network import MLPClassifier\n",
    "from sklearn.ensemble import AdaBoostClassifier\n",
    "from sklearn import tree\n",
    "from sklearn.naive_bayes import GaussianNB\n",
    "from sklearn.ensemble import GradientBoostingClassifier\n",
    "from sklearn import svm\n",
    "from sklearn.ensemble import ExtraTreesClassifier\n",
    "# Training classifiers\n",
    "clf1 = RandomForestClassifier(n_estimators=12)\n",
    "clf2 = KNeighborsClassifier(n_neighbors=2,p=1,leaf_size=738)\n",
    "clf3 = MLPClassifier(alpha=0.01,hidden_layer_sizes=(100,),validation_fraction=0.9,shuffle=False)\n",
    "clf4 = AdaBoostClassifier(n_estimators=67)\n",
    "clf5 = tree.DecisionTreeClassifier(criterion='gini',random_state=60)\n",
    "clf6 = GaussianNB()\n",
    "clf7 = GradientBoostingClassifier(n_estimators=4,max_depth=11,random_state=2,min_samples_leaf=2)\n",
    "clf8 = svm.SVC()\n",
    "clf9 = ExtraTreesClassifier(random_state = 0, n_jobs = -1, n_estimators = 100, max_depth = 3)\n",
    "\n",
    "eclf1 = VotingClassifier(estimators=[('RF', clf1), ('knn', clf2), ('MLP', clf3), ('AdaBoost', clf4),\n",
    "        ('tree', clf5), ('GaussianNB', clf6), ('GradientBoosting', clf7),\n",
    "        ('svm', clf8) ,('ExtraTreeC', clf9)],voting='soft',weights=[2,1,2,2,1,2,2,2,1])\n",
    "clf1 = eclf1.fit(X,y)\n",
    "clf2 = clf2.fit(X,y)\n",
    "clf3 = clf3.fit(X,y)\n",
    "clf4 = clf4.fit(X,y)\n",
    "clf5 = clf5.fit(X,y)\n",
    "clf6 = clf6.fit(X,y)\n",
    "clf7 = clf7.fit(X,y)\n",
    "clf8 = clf8.fit(X,y)\n",
    "clf9 = clf9.fit(X,y)\n",
    "eclf1 = eclf.fit(X,y)\n",
    "    \n",
    "##print('\\n',\"voting=hard\")\n",
    "##eclf1 = VotingClassifier(estimators=[('RF', clf1), ('knn', clf2), ('MLP', clf3), ('AdaBoost', clf4),('tree', clf5),\n",
    "                     #('GaussianNB', clf6), ('GradientBoosting', clf7), ('svm', clf8), ('ETC', clf9)], voting='hard')\n",
    "##eclf1 = eclf1.fit(X, y)\n",
    "##print(eclf1.predict(X))\n",
    "\n",
    "\n",
    "##print('\\n','voting=soft')\n",
    "##eclf2 = VotingClassifier(estimators=[('RF', clf1), ('knn', clf2), ('MLP', clf3), ('AdaBoost', clf4),('tree', clf5),\n",
    "                    #('GaussianNB', clf6), ('GradientBoosting', clf7), ('svm', clf8), ('ETC', clf9)], voting='soft')\n",
    "##eclf2 = eclf1.fit(X, y)\n",
    "##print(eclf2.predict(X))\n",
    "\n",
    "##print('\\n','weights')\n",
    "##eclf3 = VotingClassifier(estimators=[('RF', clf1), ('knn', clf2), ('MLP', clf3), ('AdaBoost', clf4),('tree', clf5),\n",
    "        #('GaussianNB', clf6), ('GradientBoosting', clf7), ('svm', clf8), ('ETC', clf9)], voting='soft',weights=[2,1,1,1,2,2,1,1,2],flatten_transform=True)\n",
    "\n",
    "##eclf3 = eclf1.fit(X, y)\n",
    "##print(eclf3.predict(X))\n",
    "\n",
    "##print('shape')\n",
    "##print(eclf3.transform(X).shape)\n",
    "end=time.time()\n",
    "print(\"time=\",end-start)\n",
    "    \n",
    "#Voting_Weight()"
   ]
  },
  {
   "cell_type": "code",
   "execution_count": 32,
   "metadata": {},
   "outputs": [
    {
     "name": "stdout",
     "output_type": "stream",
     "text": [
      "[1] rfc=\n",
      "[[157   0]\n",
      " [  2  72]]\n",
      "\n",
      "[2] knn=\n",
      "[[139  18]\n",
      " [ 51  23]]\n",
      "\n",
      "[3] MLP=\n",
      "[[128  29]\n",
      " [ 31  43]]\n",
      "\n",
      "[4] ABC=\n",
      "[[144  13]\n",
      " [ 26  48]]\n",
      "\n",
      "[5] DTree=\n",
      "[[157   0]\n",
      " [  0  74]]\n",
      "\n",
      "[6] GNB=\n",
      "[[138  19]\n",
      " [ 36  38]]\n",
      "\n",
      "[7] gbc=\n",
      "[[138  19]\n",
      " [ 51  23]]\n",
      "\n",
      "[8] SVM=\n",
      "[[157   0]\n",
      " [ 74   0]]\n",
      "\n",
      "[9] ETC=\n",
      "[[155   2]\n",
      " [ 62  12]]\n",
      "\n",
      "time= 0.2802927494049072\n"
     ]
    }
   ],
   "source": [
    "#ماتریس در هم ریختگی\n",
    "#Confusion Matrix\n",
    "import time\n",
    "start=time.time()\n",
    "from sklearn.metrics import classification_report,confusion_matrix\n",
    "predicted=rfc.predict(X_test)\n",
    "print('[1]','rfc=')\n",
    "print(confusion_matrix(y_test,predicted,[0,1]))\n",
    "print()\n",
    "\n",
    "predicted=knn.predict(X_test)\n",
    "print('[2]','knn=')\n",
    "print(confusion_matrix(y_test,predicted,[0,1]))\n",
    "print()\n",
    "\n",
    "\n",
    "predicted=MLP.predict(X_test)\n",
    "print('[3]','MLP=')\n",
    "print(confusion_matrix(y_test,predicted,[0,1]))\n",
    "print()\n",
    "\n",
    "\n",
    "\n",
    "predicted=ABC.predict(X_test)\n",
    "print('[4]','ABC=')\n",
    "print(confusion_matrix(y_test,predicted,[0,1]))\n",
    "print()\n",
    "\n",
    "\n",
    "predicted=DTree.predict(X_test)\n",
    "print('[5]','DTree=')\n",
    "print(confusion_matrix(y_test,predicted,[0,1]))\n",
    "print()\n",
    "\n",
    "\n",
    "predicted=GNB.predict(X_test)\n",
    "print('[6]','GNB=')\n",
    "print(confusion_matrix(y_test,predicted,[0,1]))\n",
    "print()\n",
    "\n",
    "\n",
    "\n",
    "predicted=gbc.predict(X_test)\n",
    "print('[7]','gbc=')\n",
    "print(confusion_matrix(y_test,predicted,[0,1]))\n",
    "print()\n",
    "\n",
    "\n",
    "\n",
    "predicted=SVM.predict(X_test)\n",
    "print('[8]','SVM=')\n",
    "print(confusion_matrix(y_test,predicted,[0,1]))\n",
    "print()\n",
    "\n",
    "\n",
    "\n",
    "predicted=ETC.predict(X_test)\n",
    "print('[9]','ETC=')\n",
    "print(confusion_matrix(y_test,predicted,[0,1]))\n",
    "print()\n",
    "\n",
    "\n",
    "\n",
    "end=time.time()\n",
    "print(\"time=\",end-start)\n",
    "\n",
    "#print(classification_report,y_test,predicted)"
   ]
  },
  {
   "cell_type": "code",
   "execution_count": 33,
   "metadata": {},
   "outputs": [
    {
     "name": "stdout",
     "output_type": "stream",
     "text": [
      "Result for RFC= 0.999913926665519\n"
     ]
    },
    {
     "data": {
      "image/png": "[encoded data removed]",
      "text/plain": [
       "<Figure size 432x288 with 1 Axes>"
      ]
     },
     "metadata": {
      "needs_background": "light"
     },
     "output_type": "display_data"
    },
    {
     "name": "stdout",
     "output_type": "stream",
     "text": [
      "\n"
     ]
    },
    {
     "data": {
      "image/png": "[encoded data removed]",
      "text/plain": [
       "<Figure size 432x288 with 1 Axes>"
      ]
     },
     "metadata": {
      "needs_background": "light"
     },
     "output_type": "display_data"
    },
    {
     "name": "stdout",
     "output_type": "stream",
     "text": [
      "Result for KNN= 0.6402995352039939\n",
      "\n"
     ]
    },
    {
     "data": {
      "image/png": "[encoded data removed]",
      "text/plain": [
       "<Figure size 432x288 with 1 Axes>"
      ]
     },
     "metadata": {
      "needs_background": "light"
     },
     "output_type": "display_data"
    },
    {
     "name": "stdout",
     "output_type": "stream",
     "text": [
      "Result for MLP= 0.7781029437080393\n",
      "\n"
     ]
    },
    {
     "data": {
      "image/png": "[encoded data removed]",
      "text/plain": [
       "<Figure size 432x288 with 1 Axes>"
      ]
     },
     "metadata": {
      "needs_background": "light"
     },
     "output_type": "display_data"
    },
    {
     "name": "stdout",
     "output_type": "stream",
     "text": [
      "Result for ABC= 0.9090204854536065\n",
      "\n"
     ]
    },
    {
     "data": {
      "image/png": "[encoded data removed]",
      "text/plain": [
       "<Figure size 432x288 with 1 Axes>"
      ]
     },
     "metadata": {
      "needs_background": "light"
     },
     "output_type": "display_data"
    },
    {
     "name": "stdout",
     "output_type": "stream",
     "text": [
      "Result for Dtree= 1.0\n",
      "\n"
     ]
    },
    {
     "data": {
      "image/png": "[encoded data removed]",
      "text/plain": [
       "<Figure size 432x288 with 1 Axes>"
      ]
     },
     "metadata": {
      "needs_background": "light"
     },
     "output_type": "display_data"
    },
    {
     "name": "stdout",
     "output_type": "stream",
     "text": [
      "Resultfor GNB= 0.8039249440523325\n",
      "\n"
     ]
    },
    {
     "data": {
      "image/png": "[encoded data removed]",
      "text/plain": [
       "<Figure size 432x288 with 1 Axes>"
      ]
     },
     "metadata": {
      "needs_background": "light"
     },
     "output_type": "display_data"
    },
    {
     "name": "stdout",
     "output_type": "stream",
     "text": [
      "Result for gbc= 0.7007660526768809\n",
      "\n"
     ]
    },
    {
     "data": {
      "image/png": "[encoded data removed]",
      "text/plain": [
       "<Figure size 432x288 with 1 Axes>"
      ]
     },
     "metadata": {
      "needs_background": "light"
     },
     "output_type": "display_data"
    },
    {
     "name": "stdout",
     "output_type": "stream",
     "text": [
      "Result for SVM= 0.5556033740747117\n",
      "\n"
     ]
    },
    {
     "data": {
      "image/png": "[encoded data removed]",
      "text/plain": [
       "<Figure size 432x288 with 1 Axes>"
      ]
     },
     "metadata": {
      "needs_background": "light"
     },
     "output_type": "display_data"
    },
    {
     "name": "stdout",
     "output_type": "stream",
     "text": [
      "Result for ETC= 0.8132208641762781\n",
      "time= 2.315685272216797\n"
     ]
    }
   ],
   "source": [
    "#نموار ROC\n",
    "# Nemodare ROC\n",
    "import time\n",
    "start=time.time()\n",
    "\n",
    "from sklearn.metrics import roc_curve\n",
    "from sklearn.metrics import roc_auc_score\n",
    "predicted_pred=rfc.predict_proba(X_test)[ :,1]\n",
    "fpr,tpr,thresholds=roc_curve(y_test,predicted_pred)\n",
    "plt.subplot(211)\n",
    "plt.plot([0,1],[0,1],'k--',label='RFC',color='b')\n",
    "plt.plot(fpr,tpr , marker='*')\n",
    "plt.xlabel(\"FPR\")\n",
    "plt.ylabel(\"TPR\")\n",
    "print('Result for RFC=',roc_auc_score(y_test,predicted_pred))\n",
    "plt.title('ROC=RFC')\n",
    "plt.xticks()\n",
    "plt.yticks()\n",
    "plt.legend(loc='lower right')\n",
    "plt.show()\n",
    "\n",
    "\n",
    "print()\n",
    "predicted_pred=knn.predict_proba(X_test)[ :,1]\n",
    "fpr,tpr,thresholds=roc_curve(y_test,predicted_pred)\n",
    "plt.subplot(211)\n",
    "plt.plot([0,1],[0,1],'k--',label='KNN',color='g')\n",
    "plt.plot(fpr,tpr, marker='d')\n",
    "plt.title('ROC=KNN')\n",
    "plt.xticks()\n",
    "plt.yticks()\n",
    "plt.legend(loc='lower right')\n",
    "plt.show()\n",
    "\n",
    "\n",
    "\n",
    "\n",
    "print('Result for KNN=',roc_auc_score(y_test,predicted_pred))\n",
    "\n",
    "\n",
    "print()\n",
    "predicted_pred=MLP.predict_proba(X_test)[ :,1]\n",
    "fpr,tpr,thresholds=roc_curve(y_test,predicted_pred)\n",
    "plt.subplot(211)\n",
    "plt.plot([0,1],[0,1],'k--',label='MLP',color='r')\n",
    "plt.plot(fpr,tpr, marker='^')\n",
    "plt.title('ROC=MLP')\n",
    "plt.xticks()\n",
    "plt.yticks()\n",
    "plt.legend(loc='lower right')\n",
    "plt.show()\n",
    "\n",
    "\n",
    "print('Result for MLP=',roc_auc_score(y_test,predicted_pred))\n",
    "\n",
    "\n",
    "\n",
    "print()\n",
    "predicted_pred=ABC.predict_proba(X_test)[ :,1]\n",
    "fpr,tpr,thresholds=roc_curve(y_test,predicted_pred)\n",
    "plt.subplot(211)\n",
    "plt.plot([0,1],[0,1],'k--',label='ABC',color='c')\n",
    "plt.plot(fpr,tpr, marker='*')\n",
    "plt.title('ROC=ABC')\n",
    "plt.xticks()\n",
    "plt.yticks()\n",
    "plt.legend(loc='lower right')\n",
    "plt.show()\n",
    "\n",
    "\n",
    "print('Result for ABC=',roc_auc_score(y_test,predicted_pred))\n",
    "\n",
    "\n",
    "\n",
    "\n",
    "print()\n",
    "predicted_pred=DTree.predict_proba(X_test)[ :,1]\n",
    "fpr,tpr,thresholds=roc_curve(y_test,predicted_pred)\n",
    "plt.subplot(211)\n",
    "plt.plot([0,1],[0,1],'k--',label='Dtree',color='m')\n",
    "plt.plot(fpr,tpr, marker='H')\n",
    "plt.title('ROC=Dtree')\n",
    "plt.xticks()\n",
    "plt.yticks()\n",
    "plt.legend(loc='lower right')\n",
    "plt.show()\n",
    "\n",
    "\n",
    "print('Result for Dtree=',roc_auc_score(y_test,predicted_pred))\n",
    "\n",
    "\n",
    "\n",
    "\n",
    "print()\n",
    "predicted_pred=GNB.predict_proba(X_test)[ :,1]\n",
    "fpr,tpr,thresholds=roc_curve(y_test,predicted_pred)\n",
    "plt.subplot(211)\n",
    "plt.plot([0,1],[0,1],'k--',label='GNB',color='y')\n",
    "plt.plot(fpr,tpr, marker='D')\n",
    "plt.title('ROC=GNB')\n",
    "plt.xticks()\n",
    "plt.yticks()\n",
    "plt.legend(loc='lower right')\n",
    "plt.show()\n",
    "\n",
    "\n",
    "\n",
    "print('Resultfor GNB=',roc_auc_score(y_test,predicted_pred))\n",
    "\n",
    "\n",
    "\n",
    "\n",
    "print()\n",
    "predicted_pred=gbc.predict_proba(X_test)[ :,1]\n",
    "fpr,tpr,thresholds=roc_curve(y_test,predicted_pred)\n",
    "plt.subplot(211)\n",
    "plt.plot([0,1],[0,1],'k--',label='gbc',color='k')\n",
    "plt.plot(fpr,tpr, marker='2')\n",
    "plt.title('ROC=gbc')\n",
    "plt.xticks()\n",
    "plt.yticks()\n",
    "plt.legend(loc='lower right')\n",
    "plt.show()\n",
    "\n",
    "\n",
    "print('Result for gbc=',roc_auc_score(y_test,predicted_pred))\n",
    "\n",
    "\n",
    "\n",
    "\n",
    "print()\n",
    "predicted_pred=SVM.predict_proba(X_test)[ :,1]\n",
    "fpr,tpr,thresholds=roc_curve(y_test,predicted_pred)\n",
    "plt.subplot(211)\n",
    "plt.plot([0,1],[0,1],'k--',label='SVM',color='w')\n",
    "plt.plot(fpr,tpr, marker='3')\n",
    "plt.title('ROC=SVM')\n",
    "plt.xticks()\n",
    "plt.yticks()\n",
    "plt.legend(loc='lower right')\n",
    "plt.show()\n",
    "\n",
    "\n",
    "print('Result for SVM=',roc_auc_score(y_test,predicted_pred))\n",
    "\n",
    "\n",
    "\n",
    "\n",
    "print()\n",
    "predicted_pred=ETC.predict_proba(X_test)[ :,1]\n",
    "fpr,tpr,thresholds=roc_curve(y_test,predicted_pred)\n",
    "plt.subplot(211)\n",
    "plt.plot([0,1],[0,1],'k--',label='ETC')\n",
    "plt.plot(fpr,tpr, marker='4')\n",
    "plt.title('ROC=ETC')\n",
    "plt.xticks()\n",
    "plt.yticks()\n",
    "plt.legend(loc='lower right')\n",
    "plt.show()\n",
    "\n",
    "print('Result for ETC=',roc_auc_score(y_test,predicted_pred))\n",
    "\n",
    "end=time.time()\n",
    "print(\"time=\",end-start)\n",
    "#plt.title('ROC')\n",
    "#plt.xticks()\n",
    "#plt.yticks()\n",
    "#plt.legend(loc='lower right')\n",
    "#plt.show()\n"
   ]
  },
  {
   "cell_type": "code",
   "execution_count": 34,
   "metadata": {},
   "outputs": [
    {
     "name": "stderr",
     "output_type": "stream",
     "text": [
      "No handles with labels found to put in legend.\n"
     ]
    },
    {
     "data": {
      "image/png": "[encoded data removed]",
      "text/plain": [
       "<Figure size 2448x1008 with 1 Axes>"
      ]
     },
     "metadata": {
      "needs_background": "light"
     },
     "output_type": "display_data"
    }
   ],
   "source": [
    "%matplotlib inline\n",
    "import matplotlib.pyplot as plt\n",
    "python_course_green = \"#476042\"\n",
    "plt.figure(figsize=(34, 14))\n",
    "plt.subplot(221) # equivalent to: plt.subplot(2, 2, 1)\n",
    "\n",
    "Test=[0.93,0.83,0.90,0.92,0.93,0.83,0.80,0.70,0.80]\n",
    "labels=['RFC','Knn','MLP','ABC','DTree','GNB','gbc','SVM','ETC']\n",
    "xs=[i for i,_ in enumerate(labels)]\n",
    "plt.bar(xs,Test)\n",
    "plt.xticks(xs,labels)\n",
    "plt.title('َAccurcay')\n",
    "plt.xlabel('Algoritm ML')\n",
    "plt.ylabel('Accuracy')\n",
    "plt.legend(loc='lower right')\n",
    "\n",
    "\n",
    "plt.plot()\n",
    "plt.show()\n"
   ]
  },
  {
   "cell_type": "code",
   "execution_count": 35,
   "metadata": {},
   "outputs": [
    {
     "name": "stdout",
     "output_type": "stream",
     "text": [
      "--------------------------------------------------\n",
      "                 GridSearch Cross Validation\n",
      "KNN= 0.6940104166666666\n",
      "\n",
      "               Random Search Parameter tuning\n",
      "KNN= 0.7018229166666666\n",
      "--------------------------------------------------\n",
      "                 GridSearch Cross Validation\n",
      "RFC= 0.7369791666666666\n",
      "\n",
      "                Random Search Parameter tuning\n",
      "RFC= 0.7565104166666666\n",
      "--------------------------------------------------\n",
      "                 GridSearch Cross Validation\n",
      "MLP= 0.66796875\n",
      "\n",
      "                Random Search Parameter tuning\n",
      "MLP= 0.671875\n",
      "--------------------------------------------------\n",
      "                 GridSearch Cross Validation\n",
      "ABC= 0.7604166666666666\n",
      "\n",
      "                Random Search Parameter tuning\n",
      "ABC= 0.7604166666666666\n",
      "--------------------------------------------------\n",
      "                 GridSearch Cross Validation\n",
      "DTree= 0.7135416666666666\n",
      "\n",
      "                Random Search Parameter tuning\n",
      "DTree= 0.6809895833333334\n",
      "--------------------------------------------------\n",
      "                 GridSearch Cross Validation\n",
      "GNB= 0.7513020833333334\n",
      "\n",
      "                Random Search Parameter tuning\n",
      "GNB= 0.7434895833333334\n",
      "--------------------------------------------------\n",
      "                 GridSearch Cross Validation\n",
      "gbc= 0.7083333333333334\n",
      "\n",
      "                Random Search Parameter tuning\n",
      "gbc= 0.7083333333333334\n",
      "--------------------------------------------------\n",
      "                 GridSearch Cross Validation\n",
      "SVM= 0.6510416666666666\n",
      "\n",
      "                Random Search Parameter tuning\n",
      "SVM= 0.6510416666666666\n",
      "--------------------------------------------------\n",
      "                 GridSearch Cross Validation\n",
      "ETC= 0.6822916666666666\n",
      "\n",
      "                Random Search Parameter tuning\n",
      "ETC= 0.6888020833333334\n",
      "time= 18.61663317680359\n"
     ]
    }
   ],
   "source": [
    "#GridSearch Cross Validation\n",
    "#Random Search Parameter tuning\n",
    "import time\n",
    "start=time.time()\n",
    "\n",
    "print('--------------------------------------------------')\n",
    "print('                ','GridSearch Cross Validation')\n",
    "from sklearn.model_selection import GridSearchCV\n",
    "\n",
    "param_grid={}\n",
    "#param_grid={'n_neigbors':np.arange(1,50)}\n",
    "knn_cv=GridSearchCV(knn,param_grid,cv=5)\n",
    "knn_cv.fit(X,y)\n",
    "print('KNN=',knn_cv.best_score_)\n",
    "#print(knn_cv.best_estimator_)\n",
    "#print(knn_cv.best_params_)\n",
    "\n",
    "\n",
    "print()\n",
    "#Random Search Parameter tuning\n",
    "print('              ','Random Search Parameter tuning')\n",
    "from scipy.stats import uniform\n",
    "from sklearn.model_selection import RandomizedSearchCV\n",
    "param_grid={}\n",
    "#param_grid={'n_neigbors':np.arange(1,50)}\n",
    "knn_RS=RandomizedSearchCV(knn,param_distributions=param_grid,n_iter=1,random_state=7)\n",
    "knn_RS.fit(X,y)\n",
    "print('KNN=',knn_RS.best_score_)\n",
    "#print(knn_RS.best_estimator_)\n",
    "print('--------------------------------------------------')\n",
    "rfc_cv=GridSearchCV(rfc,param_grid,cv=5)\n",
    "rfc_cv.fit(X,y)\n",
    "print('                ','GridSearch Cross Validation')\n",
    "print('RFC=',rfc_cv.best_score_)\n",
    "#print(rfc_cv.best_estimator_)\n",
    "print()\n",
    "print('               ','Random Search Parameter tuning')\n",
    "rfc_cv=RandomizedSearchCV(rfc,param_distributions=param_grid,n_iter=1,random_state=7)\n",
    "rfc_cv.fit(X,y)\n",
    "print('RFC=',rfc_cv.best_score_)\n",
    "#print(rfc_cv.best_estimator_)\n",
    "print('--------------------------------------------------')\n",
    "MLP_cv=GridSearchCV(MLP,param_grid,cv=5)\n",
    "MLP_cv.fit(X,y)\n",
    "print('                ','GridSearch Cross Validation')\n",
    "print('MLP=',MLP_cv.best_score_)\n",
    "#print(MLP_cv.best_estimator_)\n",
    "print()\n",
    "print('               ','Random Search Parameter tuning')\n",
    "MLP_cv=RandomizedSearchCV(MLP,param_distributions=param_grid,n_iter=1,random_state=7)\n",
    "MLP_cv.fit(X,y)\n",
    "print('MLP=',MLP_cv.best_score_)\n",
    "#print(MLP_cv.best_estimator_)\n",
    "print('--------------------------------------------------')\n",
    "ABC_cv=GridSearchCV(ABC,param_grid,cv=5)\n",
    "ABC_cv.fit(X,y)\n",
    "print('                ','GridSearch Cross Validation')\n",
    "print('ABC=',ABC_cv.best_score_)\n",
    "#print(ABC_cv.best_estimator_)\n",
    "print()\n",
    "print('               ','Random Search Parameter tuning')\n",
    "ABC_cv=RandomizedSearchCV(ABC,param_distributions=param_grid,n_iter=1,random_state=7)\n",
    "ABC_cv.fit(X,y)\n",
    "print('ABC=',ABC_cv.best_score_)\n",
    "#print(ABC_cv.best_estimator_)\n",
    "print('--------------------------------------------------')\n",
    "DTree_cv=GridSearchCV(DTree,param_grid,cv=5)\n",
    "DTree_cv.fit(X,y)\n",
    "print('                ','GridSearch Cross Validation')\n",
    "print('DTree=',DTree_cv.best_score_)\n",
    "#print(DTree_cv.best_estimator_)\n",
    "print()\n",
    "print('               ','Random Search Parameter tuning')\n",
    "DTree_cv=RandomizedSearchCV(DTree,param_distributions=param_grid,n_iter=1,random_state=7)\n",
    "DTree_cv.fit(X,y)\n",
    "print('DTree=',DTree_cv.best_score_)\n",
    "#print(DTree_cv.best_estimator_)\n",
    "print('--------------------------------------------------')\n",
    "GNB_cv=GridSearchCV(GNB,param_grid,cv=5)\n",
    "GNB_cv.fit(X,y)\n",
    "print('                ','GridSearch Cross Validation')\n",
    "print('GNB=',GNB_cv.best_score_)\n",
    "#print(GNB_cv.best_estimator_)\n",
    "print()\n",
    "print('               ','Random Search Parameter tuning')\n",
    "GNB_cv=RandomizedSearchCV(GNB,param_distributions=param_grid,n_iter=1,random_state=7)\n",
    "GNB_cv.fit(X,y)\n",
    "print('GNB=',GNB_cv.best_score_)\n",
    "#print(GNB_cv.best_estimator_)\n",
    "print('--------------------------------------------------')\n",
    "gbc_cv=GridSearchCV(gbc,param_grid,cv=5)\n",
    "gbc_cv.fit(X,y)\n",
    "print('                ','GridSearch Cross Validation')\n",
    "print('gbc=',gbc_cv.best_score_)\n",
    "#print(gbc_cv.best_estimator_)\n",
    "print()\n",
    "print('               ','Random Search Parameter tuning')\n",
    "gbc_cv=RandomizedSearchCV(gbc,param_distributions=param_grid,n_iter=1,random_state=7)\n",
    "gbc_cv.fit(X,y)\n",
    "print('gbc=',gbc_cv.best_score_)\n",
    "#print(gbc_cv.best_estimator_)\n",
    "print('--------------------------------------------------')\n",
    "SVM_cv=GridSearchCV(SVM,param_grid,cv=5)\n",
    "SVM_cv.fit(X,y)\n",
    "print('                ','GridSearch Cross Validation')\n",
    "print('SVM=',SVM_cv.best_score_)\n",
    "#print(SVM_cv.best_estimator_)\n",
    "print()\n",
    "print('               ','Random Search Parameter tuning')\n",
    "SVM_cv=RandomizedSearchCV(SVM,param_distributions=param_grid,n_iter=1,random_state=7)\n",
    "SVM_cv.fit(X,y)\n",
    "print('SVM=',SVM_cv.best_score_)\n",
    "#print(SVM_cv.best_estimator_)\n",
    "print('--------------------------------------------------')\n",
    "ETC_cv=GridSearchCV(ETC,param_grid,cv=5)\n",
    "ETC_cv.fit(X,y)\n",
    "print('                ','GridSearch Cross Validation')\n",
    "print('ETC=',ETC_cv.best_score_)\n",
    "#print(ETC_cv.best_estimator_)\n",
    "print()\n",
    "print('               ','Random Search Parameter tuning')\n",
    "ETC_cv=RandomizedSearchCV(ETC,param_distributions=param_grid,n_iter=1,random_state=7)\n",
    "ETC_cv.fit(X,y)\n",
    "print('ETC=',ETC_cv.best_score_)\n",
    "#print(ETC_cv.best_estimator_)\n",
    "\n",
    "end=time.time()\n",
    "print(\"time=\",end-start)"
   ]
  },
  {
   "cell_type": "code",
   "execution_count": 36,
   "metadata": {},
   "outputs": [
    {
     "name": "stderr",
     "output_type": "stream",
     "text": [
      "No handles with labels found to put in legend.\n",
      "No handles with labels found to put in legend.\n"
     ]
    },
    {
     "data": {
      "image/png": "[encoded data removed]",
      "text/plain": [
       "<Figure size 864x720 with 2 Axes>"
      ]
     },
     "metadata": {
      "needs_background": "light"
     },
     "output_type": "display_data"
    },
    {
     "name": "stdout",
     "output_type": "stream",
     "text": [
      "time= 0.6080398559570312\n"
     ]
    }
   ],
   "source": [
    "#### %matplotlib inline\n",
    "import time\n",
    "start=time.time()\n",
    "import matplotlib.pyplot as plt\n",
    "python_course_green = \"#476042\"\n",
    "plt.figure(figsize=(12, 10))\n",
    "plt.subplot(221) # equivalent to: plt.subplot(2, 2, 1)\n",
    "\n",
    "Test=[0.74,0.69,0.65,0.76,0.71,0.75,0.70,0.65,0.68]\n",
    "labels=['RFC','Knn','MLP','ABC','DTree','GNB','gbc','SVM','ETC']\n",
    "xs=[i for i,_ in enumerate(labels)]\n",
    "plt.bar(xs,Test)\n",
    "plt.xticks(xs,labels)\n",
    "plt.title('GridSearch Cross Validation')\n",
    "plt.xlabel('Algoritm ML')\n",
    "plt.ylabel('Accuracy')\n",
    "plt.legend(loc='lower right')\n",
    "\n",
    "\n",
    "\n",
    "plt.subplot(222)\n",
    "\n",
    "\n",
    "Train=[0.75,0.70,0.67,0.76,0.68,0.74,0.70,0.65,0.68]\n",
    "labels=['RFC','Knn','MLP','ABC','DTree','GNB','gbc','SVM','ETC']\n",
    "xs=[i for i,_ in enumerate(labels)]\n",
    "plt.bar(xs,Train)\n",
    "plt.xticks(xs,labels)\n",
    "plt.title('Random Search Parameter tuning')\n",
    "plt.xlabel('Algoritm ML')\n",
    "plt.ylabel('Accuracy')\n",
    "plt.legend(loc='lower right')\n",
    "\n",
    "\n",
    "\n",
    "plt.plot()\n",
    "plt.show()\n",
    "end=time.time()\n",
    "print(\"time=\",end-start)"
   ]
  },
  {
   "cell_type": "code",
   "execution_count": 37,
   "metadata": {},
   "outputs": [
    {
     "name": "stdout",
     "output_type": "stream",
     "text": [
      "Accuracy: 0.75 (+/- 0.02) [Ensemble]\n",
      "time= 3.876974582672119\n"
     ]
    }
   ],
   "source": [
    "#def Stack_Generalization():\n",
    "#تابع Stack_Generaliztion را تعریف کنید خروجی الگوریتم های پایه را به عنوان ورودی به این الگوریتم داده و جواب نهایی را بگیرید\n",
    "import time\n",
    "start=time.time()\n",
    "from sklearn.ensemble import (RandomForestClassifier, AdaBoostClassifier,GradientBoostingClassifier, ExtraTreesClassifier)\n",
    "from mlxtend.classifier import StackingClassifier\n",
    "cl1=RandomForestClassifier()\n",
    "cl2=AdaBoostClassifier()\n",
    "cl3=GradientBoostingClassifier()\n",
    "cl4=ExtraTreesClassifier()\n",
    "from sklearn.ensemble import BaggingClassifier\n",
    "from sklearn.metrics import accuracy_score\n",
    "from sklearn.neighbors import KNeighborsClassifier\n",
    "\n",
    "bagging = StackingClassifier(classifiers=[cl1,cl2,cl3,cl4], meta_classifier=KNeighborsClassifier())\n",
    "\n",
    "scores = model_selection.cross_val_score(bagging, X, y,cv=5, scoring='accuracy')\n",
    "print(\"Accuracy: %0.2f (+/- %0.2f) [%s]\" % (scores.mean(), scores.std(), label))\n",
    "\n",
    "end=time.time()\n",
    "print(\"time=\",end-start)\n",
    "#bagging.fit(X, y)\n",
    "#Stack_Generalization()"
   ]
  },
  {
   "cell_type": "code",
   "execution_count": 38,
   "metadata": {},
   "outputs": [
    {
     "data": {
      "text/plain": [
       "<function matplotlib.pyplot.show(*args, **kw)>"
      ]
     },
     "execution_count": 38,
     "metadata": {},
     "output_type": "execute_result"
    },
    {
     "data": {
      "image/png": "[encoded data removed]",
      "text/plain": [
       "<Figure size 432x288 with 1 Axes>"
      ]
     },
     "metadata": {},
     "output_type": "display_data"
    }
   ],
   "source": [
    "data1=[0.68,0.12]\n",
    "plt.axes(aspect=1)\n",
    "plt.title('StackingClassifier')\n",
    "plt.pie(data1,labels=('mean=0.68','std=0.12'))\n",
    "plt.show"
   ]
  },
  {
   "cell_type": "code",
   "execution_count": 39,
   "metadata": {},
   "outputs": [
    {
     "name": "stdout",
     "output_type": "stream",
     "text": [
      "3-fold cross validation:\n",
      "\n",
      "Accuracy: 0.75 (+/- 0.02) [RandomForest]\n",
      "time= 0.15195059776306152\n",
      "Accuracy: 0.70 (+/- 0.02) [KNeighbors]\n",
      "time= 0.17994451522827148\n",
      "Accuracy: 0.64 (+/- 0.02) [MLPClassifier]\n",
      "time= 0.5002865791320801\n",
      "Accuracy: 0.76 (+/- 0.01) [AdaBoost]\n",
      "time= 1.436394214630127\n",
      "Accuracy: 0.68 (+/- 0.01) [tree]\n",
      "time= 1.4923744201660156\n",
      "Accuracy: 0.74 (+/- 0.03) [GaussianNB]\n",
      "time= 1.5283665657043457\n",
      "Accuracy: 0.71 (+/- 0.05) [GradientBoosting]\n",
      "time= 1.8042826652526855\n",
      "Accuracy: 0.65 (+/- 0.00) [svm]\n",
      "time= 1.9882245063781738\n",
      "Accuracy: 0.69 (+/- 0.01) [ExtraTreesClassifier]\n",
      "time= 3.684691905975342\n",
      "Accuracy: 0.72 (+/- 0.03) [StackingClassifier]\n",
      "time= 8.34285569190979\n"
     ]
    }
   ],
   "source": [
    "#Simple Stacked Classification\n",
    "#Staking_Classifier\n",
    "import time\n",
    "start=time.time()\n",
    "from sklearn import model_selection\n",
    "from sklearn.linear_model import LogisticRegression\n",
    "from sklearn.neighbors import KNeighborsClassifier\n",
    "from sklearn.naive_bayes import GaussianNB \n",
    "from sklearn.ensemble import RandomForestClassifier\n",
    "from mlxtend.classifier import StackingClassifier\n",
    "import numpy as np\n",
    "\n",
    "clf1 = RandomForestClassifier(n_estimators=12)\n",
    "clf2 = KNeighborsClassifier(n_neighbors=2,p=1,leaf_size=738)\n",
    "clf3 = MLPClassifier(alpha=0.01,hidden_layer_sizes=(100,),validation_fraction=0.9,shuffle=False)\n",
    "clf4 = AdaBoostClassifier(n_estimators=67)\n",
    "clf5 = tree.DecisionTreeClassifier(criterion='gini')\n",
    "clf6 = GaussianNB()\n",
    "clf7 = GradientBoostingClassifier(n_estimators=4,max_depth=11,min_samples_leaf=2)\n",
    "clf8 = svm.SVC()\n",
    "clf9 = ExtraTreesClassifier(random_state = 0, n_jobs = -1, n_estimators = 100, max_depth = 3)\n",
    "\n",
    "lr = LogisticRegression(penalty='l2', solver='liblinear')\n",
    "sclf = StackingClassifier(classifiers=[clf1, clf2, clf3,clf4,clf5,clf6,clf7,clf8,clf9],meta_classifier=lr)\n",
    "print('3-fold cross validation:\\n')\n",
    "for clf, label in zip([clf1, clf2, clf3,clf4,clf5,clf6,clf7,clf8,clf9, sclf], \n",
    "                      ['RandomForest', \n",
    "                       'KNeighbors', \n",
    "                       'MLPClassifier',\n",
    "                       'AdaBoost','tree','GaussianNB','GradientBoosting','svm','ExtraTreesClassifier',\n",
    "                       'StackingClassifier']):\n",
    "\n",
    "    scores = model_selection.cross_val_score(clf, X, y,cv=3, scoring='accuracy')\n",
    "    print(\"Accuracy: %0.2f (+/- %0.2f) [%s]\" % (scores.mean(), scores.std(), label))\n",
    "    end=time.time()\n",
    "    print(\"time=\",end-start)"
   ]
  },
  {
   "cell_type": "code",
   "execution_count": 40,
   "metadata": {},
   "outputs": [
    {
     "name": "stderr",
     "output_type": "stream",
     "text": [
      "No handles with labels found to put in legend.\n"
     ]
    },
    {
     "data": {
      "image/png": "[encoded data removed]",
      "text/plain": [
       "<Figure size 2448x1008 with 1 Axes>"
      ]
     },
     "metadata": {
      "needs_background": "light"
     },
     "output_type": "display_data"
    }
   ],
   "source": [
    "import matplotlib.pyplot as plt\n",
    "python_course_green = \"#476042\"\n",
    "plt.figure(figsize=(34, 14))\n",
    "plt.subplot(221) # equivalent to: plt.subplot(2, 2, 1)\n",
    "\n",
    "\n",
    "Values1=[0.74,0.70,0.63,0.76,0.68,0.74,0.71,0.65,0.69,0.73]\n",
    "\n",
    "labels1=['RFC','Knn','MLP','ABC','DTree','GNB','gbc','SVM','ETC','StackingClassifier']\n",
    "xs=[i for i,_ in enumerate(labels1)]\n",
    "plt.bar(xs,Values1)\n",
    "plt.xticks(xs,labels1)\n",
    "plt.title('StackingClassifier ')\n",
    "plt.xlabel('Algoritm ML')\n",
    "plt.ylabel('Accuracy')\n",
    "plt.legend(loc='lower right')\n",
    "plt.show()"
   ]
  },
  {
   "cell_type": "code",
   "execution_count": 41,
   "metadata": {},
   "outputs": [
    {
     "name": "stderr",
     "output_type": "stream",
     "text": [
      "C:\\ProgramData\\Anaconda3\\lib\\site-packages\\sklearn\\neural_network\\multilayer_perceptron.py:564: ConvergenceWarning: Stochastic Optimizer: Maximum iterations (200) reached and the optimization hasn't converged yet.\n",
      "  % self.max_iter, ConvergenceWarning)\n"
     ]
    },
    {
     "data": {
      "image/png": "[encoded data removed]",
      "text/plain": [
       "<Figure size 720x576 with 4 Axes>"
      ]
     },
     "metadata": {
      "needs_background": "light"
     },
     "output_type": "display_data"
    }
   ],
   "source": [
    "#مناطق تصميم گيری\n",
    "#یک تابع برای ترسیم مناطق تصمیم گیری طبقه بندی ها در ابعاد 1 یا 2.\n",
    "# Loading Plotting Utilities\n",
    "import time\n",
    "start=time.time()\n",
    "import matplotlib.pyplot as plt\n",
    "import matplotlib.gridspec as gridspec\n",
    "import itertools\n",
    "from mlxtend.plotting import plot_decision_regions\n",
    "import numpy as np\n",
    "\n",
    "from sklearn.ensemble import RandomForestClassifier\n",
    "from sklearn.neighbors import KNeighborsClassifier\n",
    "from sklearn.neural_network import MLPClassifier\n",
    "from sklearn.ensemble import AdaBoostClassifier\n",
    "\n",
    "#مقدار دهی طبقه بندها\n",
    "# Initializing Classifiers\n",
    "clf1 = RandomForestClassifier(n_estimators=12)\n",
    "clf2 = KNeighborsClassifier(n_neighbors=2,p=1,leaf_size=738)\n",
    "clf3 = MLPClassifier(alpha=0.01,hidden_layer_sizes=(100,),validation_fraction=0.9,shuffle=False)\n",
    "clf4 = AdaBoostClassifier(n_estimators=67)\n",
    "\n",
    "xx, yy = np.meshgrid(np.linspace(-3, 3, 50),np.linspace(-3, 3, 50))\n",
    "rng = np.random.RandomState(0)\n",
    "X = rng.randn(300, 2)\n",
    "y = np.array(np.logical_xor(X[:, 0] > 0, X[:, 1] > 0), dtype=int)\n",
    "gs = gridspec.GridSpec(2, 2)\n",
    "\n",
    "fig = plt.figure(figsize=(10,8))\n",
    "\n",
    "labels = ['Random Forest', 'KNeighbors', 'MLPClassifier', 'AdaBoost']\n",
    "for clf, lab, grd in zip([clf1, clf2, clf3, clf4],labels,itertools.product([0, 1], repeat=2)):\n",
    "    clf.fit(X, y)\n",
    "    ax = plt.subplot(gs[grd[0], grd[1]])\n",
    "    fig = plot_decision_regions(X=X, y=y, clf=clf, legend=2)\n",
    "    plt.title(lab)\n",
    "\n",
    "plt.show()\n",
    "\n",
    "end=time.time()\n",
    "print(\"time=\",end-start)"
   ]
  },
  {
   "cell_type": "code",
   "execution_count": 42,
   "metadata": {},
   "outputs": [
    {
     "name": "stdout",
     "output_type": "stream",
     "text": [
      "time= 17.154146671295166\n"
     ]
    },
    {
     "data": {
      "image/png": "[encoded data removed]",
      "text/plain": [
       "<Figure size 720x576 with 4 Axes>"
      ]
     },
     "metadata": {
      "needs_background": "light"
     },
     "output_type": "display_data"
    }
   ],
   "source": [
    "fig = plt.figure(figsize=(10,8))\n",
    "labels = ['tree','GaussianNB','GradientBoosting','svm']\n",
    "for clf1, lab, grd in zip([clf5, clf6, clf7, clf8],labels,itertools.product([0, 1], repeat=2)):\n",
    "    clf1.fit(X, y)\n",
    "    ax = plt.subplot(gs[grd[0], grd[1]])\n",
    "    fig = plot_decision_regions(X=X, y=y, clf=clf, legend=2)\n",
    "    plt.title(lab)\n",
    "\n",
    "plt.show()"
   ]
  },
  {
   "cell_type": "code",
   "execution_count": 43,
   "metadata": {},
   "outputs": [
    {
     "name": "stderr",
     "output_type": "stream",
     "text": [
      "C:\\ProgramData\\Anaconda3\\lib\\site-packages\\sklearn\\neural_network\\multilayer_perceptron.py:564: ConvergenceWarning: Stochastic Optimizer: Maximum iterations (200) reached and the optimization hasn't converged yet.\n",
      "  % self.max_iter, ConvergenceWarning)\n",
      "C:\\ProgramData\\Anaconda3\\lib\\site-packages\\sklearn\\neural_network\\multilayer_perceptron.py:564: ConvergenceWarning: Stochastic Optimizer: Maximum iterations (200) reached and the optimization hasn't converged yet.\n",
      "  % self.max_iter, ConvergenceWarning)\n"
     ]
    },
    {
     "data": {
      "image/png": "[encoded data removed]",
      "text/plain": [
       "<Figure size 720x576 with 2 Axes>"
      ]
     },
     "metadata": {
      "needs_background": "light"
     },
     "output_type": "display_data"
    }
   ],
   "source": [
    "fig = plt.figure(figsize=(10,8))\n",
    "labels = ['ExtraTreesClassifier','StackingClassifier']\n",
    "for clf2, lab, grd in zip([clf9, sclf],labels,itertools.product([0, 1], repeat=2)):\n",
    "    clf3.fit(X, y)\n",
    "    ax = plt.subplot(gs[grd[0], grd[1]])\n",
    "    fig = plot_decision_regions(X=X, y=y, clf=clf, legend=2)\n",
    "    plt.title(lab)\n",
    "\n",
    "plt.show()\n"
   ]
  },
  {
   "cell_type": "code",
   "execution_count": 44,
   "metadata": {},
   "outputs": [
    {
     "name": "stdout",
     "output_type": "stream",
     "text": [
      "5-fold cross validation:\n",
      "\n"
     ]
    },
    {
     "name": "stderr",
     "output_type": "stream",
     "text": [
      "C:\\ProgramData\\Anaconda3\\lib\\site-packages\\sklearn\\neural_network\\multilayer_perceptron.py:564: ConvergenceWarning: Stochastic Optimizer: Maximum iterations (200) reached and the optimization hasn't converged yet.\n",
      "  % self.max_iter, ConvergenceWarning)\n",
      "C:\\ProgramData\\Anaconda3\\lib\\site-packages\\sklearn\\neural_network\\multilayer_perceptron.py:564: ConvergenceWarning: Stochastic Optimizer: Maximum iterations (200) reached and the optimization hasn't converged yet.\n",
      "  % self.max_iter, ConvergenceWarning)\n",
      "C:\\ProgramData\\Anaconda3\\lib\\site-packages\\sklearn\\neural_network\\multilayer_perceptron.py:564: ConvergenceWarning: Stochastic Optimizer: Maximum iterations (200) reached and the optimization hasn't converged yet.\n",
      "  % self.max_iter, ConvergenceWarning)\n",
      "C:\\ProgramData\\Anaconda3\\lib\\site-packages\\sklearn\\neural_network\\multilayer_perceptron.py:564: ConvergenceWarning: Stochastic Optimizer: Maximum iterations (200) reached and the optimization hasn't converged yet.\n",
      "  % self.max_iter, ConvergenceWarning)\n",
      "C:\\ProgramData\\Anaconda3\\lib\\site-packages\\sklearn\\neural_network\\multilayer_perceptron.py:564: ConvergenceWarning: Stochastic Optimizer: Maximum iterations (200) reached and the optimization hasn't converged yet.\n",
      "  % self.max_iter, ConvergenceWarning)\n"
     ]
    },
    {
     "name": "stdout",
     "output_type": "stream",
     "text": [
      "Accuracy: 0.99 (+/- 0.01) [RandomForest]\n",
      "time= 6.836649417877197\n"
     ]
    },
    {
     "name": "stderr",
     "output_type": "stream",
     "text": [
      "C:\\ProgramData\\Anaconda3\\lib\\site-packages\\sklearn\\neural_network\\multilayer_perceptron.py:564: ConvergenceWarning: Stochastic Optimizer: Maximum iterations (200) reached and the optimization hasn't converged yet.\n",
      "  % self.max_iter, ConvergenceWarning)\n",
      "C:\\ProgramData\\Anaconda3\\lib\\site-packages\\sklearn\\neural_network\\multilayer_perceptron.py:564: ConvergenceWarning: Stochastic Optimizer: Maximum iterations (200) reached and the optimization hasn't converged yet.\n",
      "  % self.max_iter, ConvergenceWarning)\n",
      "C:\\ProgramData\\Anaconda3\\lib\\site-packages\\sklearn\\neural_network\\multilayer_perceptron.py:564: ConvergenceWarning: Stochastic Optimizer: Maximum iterations (200) reached and the optimization hasn't converged yet.\n",
      "  % self.max_iter, ConvergenceWarning)\n",
      "C:\\ProgramData\\Anaconda3\\lib\\site-packages\\sklearn\\neural_network\\multilayer_perceptron.py:564: ConvergenceWarning: Stochastic Optimizer: Maximum iterations (200) reached and the optimization hasn't converged yet.\n",
      "  % self.max_iter, ConvergenceWarning)\n",
      "C:\\ProgramData\\Anaconda3\\lib\\site-packages\\sklearn\\neural_network\\multilayer_perceptron.py:564: ConvergenceWarning: Stochastic Optimizer: Maximum iterations (200) reached and the optimization hasn't converged yet.\n",
      "  % self.max_iter, ConvergenceWarning)\n"
     ]
    },
    {
     "name": "stdout",
     "output_type": "stream",
     "text": [
      "Accuracy: 0.99 (+/- 0.01) [KNeighbors]\n",
      "time= 14.514352321624756\n"
     ]
    },
    {
     "name": "stderr",
     "output_type": "stream",
     "text": [
      "C:\\ProgramData\\Anaconda3\\lib\\site-packages\\sklearn\\neural_network\\multilayer_perceptron.py:564: ConvergenceWarning: Stochastic Optimizer: Maximum iterations (200) reached and the optimization hasn't converged yet.\n",
      "  % self.max_iter, ConvergenceWarning)\n",
      "C:\\ProgramData\\Anaconda3\\lib\\site-packages\\sklearn\\neural_network\\multilayer_perceptron.py:564: ConvergenceWarning: Stochastic Optimizer: Maximum iterations (200) reached and the optimization hasn't converged yet.\n",
      "  % self.max_iter, ConvergenceWarning)\n",
      "C:\\ProgramData\\Anaconda3\\lib\\site-packages\\sklearn\\neural_network\\multilayer_perceptron.py:564: ConvergenceWarning: Stochastic Optimizer: Maximum iterations (200) reached and the optimization hasn't converged yet.\n",
      "  % self.max_iter, ConvergenceWarning)\n",
      "C:\\ProgramData\\Anaconda3\\lib\\site-packages\\sklearn\\neural_network\\multilayer_perceptron.py:564: ConvergenceWarning: Stochastic Optimizer: Maximum iterations (200) reached and the optimization hasn't converged yet.\n",
      "  % self.max_iter, ConvergenceWarning)\n",
      "C:\\ProgramData\\Anaconda3\\lib\\site-packages\\sklearn\\neural_network\\multilayer_perceptron.py:564: ConvergenceWarning: Stochastic Optimizer: Maximum iterations (200) reached and the optimization hasn't converged yet.\n",
      "  % self.max_iter, ConvergenceWarning)\n"
     ]
    },
    {
     "name": "stdout",
     "output_type": "stream",
     "text": [
      "Accuracy: 0.99 (+/- 0.01) [MLPClassifier]\n",
      "time= 21.46097445487976\n"
     ]
    },
    {
     "name": "stderr",
     "output_type": "stream",
     "text": [
      "C:\\ProgramData\\Anaconda3\\lib\\site-packages\\sklearn\\neural_network\\multilayer_perceptron.py:564: ConvergenceWarning: Stochastic Optimizer: Maximum iterations (200) reached and the optimization hasn't converged yet.\n",
      "  % self.max_iter, ConvergenceWarning)\n",
      "C:\\ProgramData\\Anaconda3\\lib\\site-packages\\sklearn\\neural_network\\multilayer_perceptron.py:564: ConvergenceWarning: Stochastic Optimizer: Maximum iterations (200) reached and the optimization hasn't converged yet.\n",
      "  % self.max_iter, ConvergenceWarning)\n",
      "C:\\ProgramData\\Anaconda3\\lib\\site-packages\\sklearn\\neural_network\\multilayer_perceptron.py:564: ConvergenceWarning: Stochastic Optimizer: Maximum iterations (200) reached and the optimization hasn't converged yet.\n",
      "  % self.max_iter, ConvergenceWarning)\n",
      "C:\\ProgramData\\Anaconda3\\lib\\site-packages\\sklearn\\neural_network\\multilayer_perceptron.py:564: ConvergenceWarning: Stochastic Optimizer: Maximum iterations (200) reached and the optimization hasn't converged yet.\n",
      "  % self.max_iter, ConvergenceWarning)\n",
      "C:\\ProgramData\\Anaconda3\\lib\\site-packages\\sklearn\\neural_network\\multilayer_perceptron.py:564: ConvergenceWarning: Stochastic Optimizer: Maximum iterations (200) reached and the optimization hasn't converged yet.\n",
      "  % self.max_iter, ConvergenceWarning)\n"
     ]
    },
    {
     "name": "stdout",
     "output_type": "stream",
     "text": [
      "Accuracy: 0.99 (+/- 0.01) [AdaBoost]\n",
      "time= 28.638870239257812\n"
     ]
    },
    {
     "name": "stderr",
     "output_type": "stream",
     "text": [
      "C:\\ProgramData\\Anaconda3\\lib\\site-packages\\sklearn\\neural_network\\multilayer_perceptron.py:564: ConvergenceWarning: Stochastic Optimizer: Maximum iterations (200) reached and the optimization hasn't converged yet.\n",
      "  % self.max_iter, ConvergenceWarning)\n",
      "C:\\ProgramData\\Anaconda3\\lib\\site-packages\\sklearn\\neural_network\\multilayer_perceptron.py:564: ConvergenceWarning: Stochastic Optimizer: Maximum iterations (200) reached and the optimization hasn't converged yet.\n",
      "  % self.max_iter, ConvergenceWarning)\n",
      "C:\\ProgramData\\Anaconda3\\lib\\site-packages\\sklearn\\neural_network\\multilayer_perceptron.py:564: ConvergenceWarning: Stochastic Optimizer: Maximum iterations (200) reached and the optimization hasn't converged yet.\n",
      "  % self.max_iter, ConvergenceWarning)\n",
      "C:\\ProgramData\\Anaconda3\\lib\\site-packages\\sklearn\\neural_network\\multilayer_perceptron.py:564: ConvergenceWarning: Stochastic Optimizer: Maximum iterations (200) reached and the optimization hasn't converged yet.\n",
      "  % self.max_iter, ConvergenceWarning)\n",
      "C:\\ProgramData\\Anaconda3\\lib\\site-packages\\sklearn\\neural_network\\multilayer_perceptron.py:564: ConvergenceWarning: Stochastic Optimizer: Maximum iterations (200) reached and the optimization hasn't converged yet.\n",
      "  % self.max_iter, ConvergenceWarning)\n"
     ]
    },
    {
     "name": "stdout",
     "output_type": "stream",
     "text": [
      "Accuracy: 0.99 (+/- 0.01) [tree]\n",
      "time= 36.20459222793579\n"
     ]
    },
    {
     "name": "stderr",
     "output_type": "stream",
     "text": [
      "C:\\ProgramData\\Anaconda3\\lib\\site-packages\\sklearn\\neural_network\\multilayer_perceptron.py:564: ConvergenceWarning: Stochastic Optimizer: Maximum iterations (200) reached and the optimization hasn't converged yet.\n",
      "  % self.max_iter, ConvergenceWarning)\n",
      "C:\\ProgramData\\Anaconda3\\lib\\site-packages\\sklearn\\neural_network\\multilayer_perceptron.py:564: ConvergenceWarning: Stochastic Optimizer: Maximum iterations (200) reached and the optimization hasn't converged yet.\n",
      "  % self.max_iter, ConvergenceWarning)\n",
      "C:\\ProgramData\\Anaconda3\\lib\\site-packages\\sklearn\\neural_network\\multilayer_perceptron.py:564: ConvergenceWarning: Stochastic Optimizer: Maximum iterations (200) reached and the optimization hasn't converged yet.\n",
      "  % self.max_iter, ConvergenceWarning)\n",
      "C:\\ProgramData\\Anaconda3\\lib\\site-packages\\sklearn\\neural_network\\multilayer_perceptron.py:564: ConvergenceWarning: Stochastic Optimizer: Maximum iterations (200) reached and the optimization hasn't converged yet.\n",
      "  % self.max_iter, ConvergenceWarning)\n",
      "C:\\ProgramData\\Anaconda3\\lib\\site-packages\\sklearn\\neural_network\\multilayer_perceptron.py:564: ConvergenceWarning: Stochastic Optimizer: Maximum iterations (200) reached and the optimization hasn't converged yet.\n",
      "  % self.max_iter, ConvergenceWarning)\n"
     ]
    },
    {
     "name": "stdout",
     "output_type": "stream",
     "text": [
      "Accuracy: 0.99 (+/- 0.01) [GaussianNB]\n",
      "time= 42.552778244018555\n"
     ]
    },
    {
     "name": "stderr",
     "output_type": "stream",
     "text": [
      "C:\\ProgramData\\Anaconda3\\lib\\site-packages\\sklearn\\neural_network\\multilayer_perceptron.py:564: ConvergenceWarning: Stochastic Optimizer: Maximum iterations (200) reached and the optimization hasn't converged yet.\n",
      "  % self.max_iter, ConvergenceWarning)\n",
      "C:\\ProgramData\\Anaconda3\\lib\\site-packages\\sklearn\\neural_network\\multilayer_perceptron.py:564: ConvergenceWarning: Stochastic Optimizer: Maximum iterations (200) reached and the optimization hasn't converged yet.\n",
      "  % self.max_iter, ConvergenceWarning)\n",
      "C:\\ProgramData\\Anaconda3\\lib\\site-packages\\sklearn\\neural_network\\multilayer_perceptron.py:564: ConvergenceWarning: Stochastic Optimizer: Maximum iterations (200) reached and the optimization hasn't converged yet.\n",
      "  % self.max_iter, ConvergenceWarning)\n",
      "C:\\ProgramData\\Anaconda3\\lib\\site-packages\\sklearn\\neural_network\\multilayer_perceptron.py:564: ConvergenceWarning: Stochastic Optimizer: Maximum iterations (200) reached and the optimization hasn't converged yet.\n",
      "  % self.max_iter, ConvergenceWarning)\n",
      "C:\\ProgramData\\Anaconda3\\lib\\site-packages\\sklearn\\neural_network\\multilayer_perceptron.py:564: ConvergenceWarning: Stochastic Optimizer: Maximum iterations (200) reached and the optimization hasn't converged yet.\n",
      "  % self.max_iter, ConvergenceWarning)\n"
     ]
    },
    {
     "name": "stdout",
     "output_type": "stream",
     "text": [
      "Accuracy: 0.99 (+/- 0.01) [GradientBoosting]\n",
      "time= 49.91685509681702\n"
     ]
    },
    {
     "name": "stderr",
     "output_type": "stream",
     "text": [
      "C:\\ProgramData\\Anaconda3\\lib\\site-packages\\sklearn\\neural_network\\multilayer_perceptron.py:564: ConvergenceWarning: Stochastic Optimizer: Maximum iterations (200) reached and the optimization hasn't converged yet.\n",
      "  % self.max_iter, ConvergenceWarning)\n",
      "C:\\ProgramData\\Anaconda3\\lib\\site-packages\\sklearn\\neural_network\\multilayer_perceptron.py:564: ConvergenceWarning: Stochastic Optimizer: Maximum iterations (200) reached and the optimization hasn't converged yet.\n",
      "  % self.max_iter, ConvergenceWarning)\n",
      "C:\\ProgramData\\Anaconda3\\lib\\site-packages\\sklearn\\neural_network\\multilayer_perceptron.py:564: ConvergenceWarning: Stochastic Optimizer: Maximum iterations (200) reached and the optimization hasn't converged yet.\n",
      "  % self.max_iter, ConvergenceWarning)\n",
      "C:\\ProgramData\\Anaconda3\\lib\\site-packages\\sklearn\\neural_network\\multilayer_perceptron.py:564: ConvergenceWarning: Stochastic Optimizer: Maximum iterations (200) reached and the optimization hasn't converged yet.\n",
      "  % self.max_iter, ConvergenceWarning)\n",
      "C:\\ProgramData\\Anaconda3\\lib\\site-packages\\sklearn\\neural_network\\multilayer_perceptron.py:564: ConvergenceWarning: Stochastic Optimizer: Maximum iterations (200) reached and the optimization hasn't converged yet.\n",
      "  % self.max_iter, ConvergenceWarning)\n"
     ]
    },
    {
     "name": "stdout",
     "output_type": "stream",
     "text": [
      "Accuracy: 0.99 (+/- 0.01) [svm]\n",
      "time= 56.498934268951416\n"
     ]
    },
    {
     "name": "stderr",
     "output_type": "stream",
     "text": [
      "C:\\ProgramData\\Anaconda3\\lib\\site-packages\\sklearn\\neural_network\\multilayer_perceptron.py:564: ConvergenceWarning: Stochastic Optimizer: Maximum iterations (200) reached and the optimization hasn't converged yet.\n",
      "  % self.max_iter, ConvergenceWarning)\n",
      "C:\\ProgramData\\Anaconda3\\lib\\site-packages\\sklearn\\neural_network\\multilayer_perceptron.py:564: ConvergenceWarning: Stochastic Optimizer: Maximum iterations (200) reached and the optimization hasn't converged yet.\n",
      "  % self.max_iter, ConvergenceWarning)\n",
      "C:\\ProgramData\\Anaconda3\\lib\\site-packages\\sklearn\\neural_network\\multilayer_perceptron.py:564: ConvergenceWarning: Stochastic Optimizer: Maximum iterations (200) reached and the optimization hasn't converged yet.\n",
      "  % self.max_iter, ConvergenceWarning)\n",
      "C:\\ProgramData\\Anaconda3\\lib\\site-packages\\sklearn\\neural_network\\multilayer_perceptron.py:564: ConvergenceWarning: Stochastic Optimizer: Maximum iterations (200) reached and the optimization hasn't converged yet.\n",
      "  % self.max_iter, ConvergenceWarning)\n",
      "C:\\ProgramData\\Anaconda3\\lib\\site-packages\\sklearn\\neural_network\\multilayer_perceptron.py:564: ConvergenceWarning: Stochastic Optimizer: Maximum iterations (200) reached and the optimization hasn't converged yet.\n",
      "  % self.max_iter, ConvergenceWarning)\n"
     ]
    },
    {
     "name": "stdout",
     "output_type": "stream",
     "text": [
      "Accuracy: 0.99 (+/- 0.01) [ExtraTreesClassifier]\n",
      "time= 62.94655776023865\n"
     ]
    },
    {
     "name": "stderr",
     "output_type": "stream",
     "text": [
      "C:\\ProgramData\\Anaconda3\\lib\\site-packages\\sklearn\\neural_network\\multilayer_perceptron.py:564: ConvergenceWarning: Stochastic Optimizer: Maximum iterations (200) reached and the optimization hasn't converged yet.\n",
      "  % self.max_iter, ConvergenceWarning)\n",
      "C:\\ProgramData\\Anaconda3\\lib\\site-packages\\sklearn\\neural_network\\multilayer_perceptron.py:564: ConvergenceWarning: Stochastic Optimizer: Maximum iterations (200) reached and the optimization hasn't converged yet.\n",
      "  % self.max_iter, ConvergenceWarning)\n",
      "C:\\ProgramData\\Anaconda3\\lib\\site-packages\\sklearn\\neural_network\\multilayer_perceptron.py:564: ConvergenceWarning: Stochastic Optimizer: Maximum iterations (200) reached and the optimization hasn't converged yet.\n",
      "  % self.max_iter, ConvergenceWarning)\n",
      "C:\\ProgramData\\Anaconda3\\lib\\site-packages\\sklearn\\neural_network\\multilayer_perceptron.py:564: ConvergenceWarning: Stochastic Optimizer: Maximum iterations (200) reached and the optimization hasn't converged yet.\n",
      "  % self.max_iter, ConvergenceWarning)\n",
      "C:\\ProgramData\\Anaconda3\\lib\\site-packages\\sklearn\\neural_network\\multilayer_perceptron.py:564: ConvergenceWarning: Stochastic Optimizer: Maximum iterations (200) reached and the optimization hasn't converged yet.\n",
      "  % self.max_iter, ConvergenceWarning)\n"
     ]
    },
    {
     "name": "stdout",
     "output_type": "stream",
     "text": [
      "Accuracy: 0.99 (+/- 0.01) [StackingClassifier]\n",
      "time= 70.50827550888062\n"
     ]
    }
   ],
   "source": [
    "#Simple Stacked Classification Using Probabilities as Meta-Features\n",
    "import time\n",
    "start=time.time()\n",
    "clf1 = RandomForestClassifier(n_estimators=12)\n",
    "clf2 = KNeighborsClassifier(n_neighbors=2,p=1,leaf_size=738)\n",
    "clf3 = MLPClassifier(alpha=0.01,hidden_layer_sizes=(100,),validation_fraction=0.9,shuffle=False)\n",
    "clf4 = AdaBoostClassifier(n_estimators=67)\n",
    "clf5 = tree.DecisionTreeClassifier(criterion='gini',random_state=60)\n",
    "clf6 = GaussianNB()\n",
    "clf7 = GradientBoostingClassifier(n_estimators=4,max_depth=11,random_state=2,min_samples_leaf=2)\n",
    "clf8 = svm.SVC(C=1.0, cache_size=200, class_weight=None, coef0=0.0, degree=3,kernel='rbf', max_iter=-1, probability=True, random_state=None,\n",
    "shrinking=True, tol=0.001, verbose=False)\n",
    "clf9 = ExtraTreesClassifier(random_state = 0, n_jobs = -1, n_estimators = 100, max_depth = 3)\n",
    "lr = LogisticRegression()\n",
    "sclf2 = StackingClassifier(classifiers=[clf1, clf2, clf3,clf4,clf5,clf6,clf7,clf8,clf9],\n",
    "                          use_probas=True,\n",
    "                          average_probas=True,\n",
    "                          meta_classifier=lr)\n",
    "\n",
    "print('5-fold cross validation:\\n')\n",
    "for clf5, label in zip([clf1, clf2, clf3,clf4,clf5,clf6,clf7,clf8,clf9, sclf2], \n",
    "                      ['RandomForest', \n",
    "                       'KNeighbors', \n",
    "                       'MLPClassifier',\n",
    "                       'AdaBoost',\n",
    "                       'tree',\n",
    "                       'GaussianNB',\n",
    "                       'GradientBoosting',\n",
    "                       'svm',\n",
    "                       'ExtraTreesClassifier',\n",
    "                       'StackingClassifier']):\n",
    "    scores = model_selection.cross_val_score(sclf2, X, y,cv=5, scoring='accuracy')\n",
    "    print(\"Accuracy: %0.2f (+/- %0.2f) [%s]\"% (scores.mean(), scores.std(), label))\n",
    "    \n",
    "    end=time.time()\n",
    "    print(\"time=\",end-start)"
   ]
  },
  {
   "cell_type": "code",
   "execution_count": 45,
   "metadata": {},
   "outputs": [
    {
     "name": "stderr",
     "output_type": "stream",
     "text": [
      "No handles with labels found to put in legend.\n"
     ]
    },
    {
     "data": {
      "image/png": "[encoded data removed]",
      "text/plain": [
       "<Figure size 2448x1008 with 1 Axes>"
      ]
     },
     "metadata": {
      "needs_background": "light"
     },
     "output_type": "display_data"
    }
   ],
   "source": [
    "import matplotlib.pyplot as plt\n",
    "python_course_green = \"#476042\"\n",
    "plt.figure(figsize=(34, 14))\n",
    "plt.subplot(221) # equivalent to: plt.subplot(2, 2, 1)\n",
    "\n",
    "\n",
    "Values1=[0.93,0.94, 0.90,0.52,0.95,0.55,0.95,0.94,0.78,0.98]\n",
    "\n",
    "labels1=['RFC','Knn','MLP','ABC','DTree','GNB','gbc','SVM','ETC','StackingClassifier']\n",
    "xs=[i for i,_ in enumerate(labels1)]\n",
    "plt.bar(xs,Values1)\n",
    "plt.xticks(xs,labels1)\n",
    "plt.title('Stacked Classification Using Probabilities as Meta-Features ')\n",
    "plt.xlabel('Algoritm ML')\n",
    "plt.ylabel('Accuracy')\n",
    "plt.legend(loc='lower right')\n",
    "plt.show()"
   ]
  },
  {
   "cell_type": "code",
   "execution_count": 46,
   "metadata": {},
   "outputs": [
    {
     "name": "stderr",
     "output_type": "stream",
     "text": [
      "C:\\ProgramData\\Anaconda3\\lib\\site-packages\\sklearn\\neural_network\\multilayer_perceptron.py:564: ConvergenceWarning: Stochastic Optimizer: Maximum iterations (200) reached and the optimization hasn't converged yet.\n",
      "  % self.max_iter, ConvergenceWarning)\n",
      "C:\\ProgramData\\Anaconda3\\lib\\site-packages\\sklearn\\neural_network\\multilayer_perceptron.py:564: ConvergenceWarning: Stochastic Optimizer: Maximum iterations (200) reached and the optimization hasn't converged yet.\n",
      "  % self.max_iter, ConvergenceWarning)\n",
      "C:\\ProgramData\\Anaconda3\\lib\\site-packages\\sklearn\\neural_network\\multilayer_perceptron.py:564: ConvergenceWarning: Stochastic Optimizer: Maximum iterations (200) reached and the optimization hasn't converged yet.\n",
      "  % self.max_iter, ConvergenceWarning)\n",
      "C:\\ProgramData\\Anaconda3\\lib\\site-packages\\sklearn\\neural_network\\multilayer_perceptron.py:564: ConvergenceWarning: Stochastic Optimizer: Maximum iterations (200) reached and the optimization hasn't converged yet.\n",
      "  % self.max_iter, ConvergenceWarning)\n",
      "C:\\ProgramData\\Anaconda3\\lib\\site-packages\\sklearn\\neural_network\\multilayer_perceptron.py:564: ConvergenceWarning: Stochastic Optimizer: Maximum iterations (200) reached and the optimization hasn't converged yet.\n",
      "  % self.max_iter, ConvergenceWarning)\n",
      "C:\\ProgramData\\Anaconda3\\lib\\site-packages\\sklearn\\neural_network\\multilayer_perceptron.py:564: ConvergenceWarning: Stochastic Optimizer: Maximum iterations (200) reached and the optimization hasn't converged yet.\n",
      "  % self.max_iter, ConvergenceWarning)\n",
      "C:\\ProgramData\\Anaconda3\\lib\\site-packages\\sklearn\\neural_network\\multilayer_perceptron.py:564: ConvergenceWarning: Stochastic Optimizer: Maximum iterations (200) reached and the optimization hasn't converged yet.\n",
      "  % self.max_iter, ConvergenceWarning)\n",
      "C:\\ProgramData\\Anaconda3\\lib\\site-packages\\sklearn\\neural_network\\multilayer_perceptron.py:564: ConvergenceWarning: Stochastic Optimizer: Maximum iterations (200) reached and the optimization hasn't converged yet.\n",
      "  % self.max_iter, ConvergenceWarning)\n",
      "C:\\ProgramData\\Anaconda3\\lib\\site-packages\\sklearn\\neural_network\\multilayer_perceptron.py:564: ConvergenceWarning: Stochastic Optimizer: Maximum iterations (200) reached and the optimization hasn't converged yet.\n",
      "  % self.max_iter, ConvergenceWarning)\n",
      "C:\\ProgramData\\Anaconda3\\lib\\site-packages\\sklearn\\neural_network\\multilayer_perceptron.py:564: ConvergenceWarning: Stochastic Optimizer: Maximum iterations (200) reached and the optimization hasn't converged yet.\n",
      "  % self.max_iter, ConvergenceWarning)\n",
      "C:\\ProgramData\\Anaconda3\\lib\\site-packages\\sklearn\\neural_network\\multilayer_perceptron.py:564: ConvergenceWarning: Stochastic Optimizer: Maximum iterations (200) reached and the optimization hasn't converged yet.\n",
      "  % self.max_iter, ConvergenceWarning)\n",
      "C:\\ProgramData\\Anaconda3\\lib\\site-packages\\sklearn\\neural_network\\multilayer_perceptron.py:564: ConvergenceWarning: Stochastic Optimizer: Maximum iterations (200) reached and the optimization hasn't converged yet.\n",
      "  % self.max_iter, ConvergenceWarning)\n"
     ]
    },
    {
     "name": "stdout",
     "output_type": "stream",
     "text": [
      "0.987 +/- 0.01 {}\n",
      "Best parameters: {}\n",
      "\n",
      "Accuracy: 0.99\n",
      "time= 12.589103698730469\n"
     ]
    }
   ],
   "source": [
    "#Stacked Classification and GridSearch\n",
    "\n",
    "import time\n",
    "start=time.time()\n",
    "# Initializing models\n",
    "clf1 = RandomForestClassifier(n_estimators=12)\n",
    "clf2 = KNeighborsClassifier(n_neighbors=2,p=1,leaf_size=738)\n",
    "clf3 = MLPClassifier(alpha=0.01,hidden_layer_sizes=(100,),validation_fraction=0.9,shuffle=False)\n",
    "clf4 = AdaBoostClassifier(n_estimators=67)\n",
    "clf5 = tree.DecisionTreeClassifier(criterion='gini',random_state=60)\n",
    "clf6 = GaussianNB()\n",
    "clf7 = GradientBoostingClassifier(n_estimators=4,max_depth=11,random_state=2,min_samples_leaf=2)\n",
    "clf8 = svm.SVC()\n",
    "clf9 = ExtraTreesClassifier(random_state = 0, n_jobs = -1, n_estimators = 100, max_depth = 3)\n",
    "lr = LogisticRegression()\n",
    "sclf = StackingClassifier(classifiers=[clf1, clf2, clf3,clf4, clf5, clf3,clf6, clf7, clf8, clf9],meta_classifier=lr)\n",
    "estimator=[]\n",
    "params = {}\n",
    "\n",
    "grid = GridSearchCV(estimator=sclf,param_grid=params, cv=5,refit=True)\n",
    "grid.fit(X, y)\n",
    "\n",
    "cv_keys = ('mean_test_score', 'std_test_score', 'params')\n",
    "\n",
    "for r, _ in enumerate(grid.cv_results_['mean_test_score']):\n",
    "    print(\"%0.3f +/- %0.2f %r\"% (grid.cv_results_[cv_keys[0]][r],grid.cv_results_[cv_keys[1]][r] / 2.0,grid.cv_results_[cv_keys[2]][r]))\n",
    "    print('Best parameters: %s' % grid.best_params_)\n",
    "    print()\n",
    "    print('Accuracy: %.2f' % grid.best_score_)\n",
    " \n",
    "    end=time.time()\n",
    "    print(\"time=\",end-start)   "
   ]
  },
  {
   "cell_type": "code",
   "execution_count": 47,
   "metadata": {},
   "outputs": [
    {
     "name": "stdout",
     "output_type": "stream",
     "text": [
      "time= 0.0\n"
     ]
    }
   ],
   "source": [
    "# evaluate each model in turn\n",
    "import time\n",
    "start=time.time()\n",
    "from sklearn.metrics import accuracy_score\n",
    "from sklearn.cross_validation import KFold\n",
    "from sklearn.model_selection import cross_val_score\n",
    "from sklearn.discriminant_analysis import LinearDiscriminantAnalysis\n",
    "from matplotlib import pyplot\n",
    "from sklearn.ensemble import VotingClassifier\n",
    "resultes=[]#\n",
    "names=[]\n",
    "scoring='accuracy'\n",
    "estimators2=[]\n",
    "for name,model in estimators2:\n",
    "    kfold=model_selection.KFold(n_splits=10,random_state=seed)     \n",
    "    #kfold=KFold(random_state=7) #n_splits=10\n",
    "    cv_results=cross_val_score(model,X,y,cv=kfold,scoring=scoring)\n",
    "    print(cv_results)\n",
    "    resultes.append(cv_results)\n",
    "    names.append(name)\n",
    "    msg='%s: %f (%f)' % (name,cv_results.mean(),cv_results.std())\n",
    "    print(msg)\n",
    "  \n",
    "# boxplot algorithm comparison\n",
    "    #fig=pyplot.figure()\n",
    "    #fig.suptitle('algorithm comparison')\n",
    "    #ax=fig.add_subplot(111)\n",
    "    #pyplot.boxplot(resultes)\n",
    "    #ax.set_xticklabels(names)\n",
    "    #plyplot.show()   \n",
    "# Create the Ensemble Model\n",
    "#ensemble5=VotingClassifier(estimators1)\n",
    "#Result_Voting=model_selection.cross_val_score(ensemble5,X,y,cv=5)\n",
    "#print(Result_Voting.mean())\n",
    "end=time.time()\n",
    "print(\"time=\",end-start)"
   ]
  },
  {
   "cell_type": "code",
   "execution_count": 48,
   "metadata": {},
   "outputs": [
    {
     "name": "stdout",
     "output_type": "stream",
     "text": [
      "BaggingClassifier= 0.9966101694915255\n",
      "RandomForestClassifier= 0.9966101694915255\n",
      "ExtraTreesClassifier= 0.9867194591090118\n",
      "AdaBoostClassifier= 0.5559581365194035\n",
      "GradientBoostingClassifier= 0.9966101694915255\n",
      "time= 7.024259328842163\n"
     ]
    }
   ],
   "source": [
    "#Ensemble Algoritm(Bagged Disition trees)\n",
    "import time\n",
    "start=time.time()\n",
    "from sklearn.model_selection import cross_val_score\n",
    "from sklearn.cross_validation import KFold\n",
    "from sklearn.ensemble import BaggingClassifier\n",
    "from sklearn.tree import DecisionTreeClassifier\n",
    "from sklearn import model_selection\n",
    "\n",
    "\n",
    "\n",
    "seed=7\n",
    "kfold=model_selection.KFold(n_splits=10,random_state=seed)  \n",
    "cart=DecisionTreeClassifier()\n",
    "num_trees=100\n",
    "model1=BaggingClassifier(base_estimator=cart,n_estimators=num_trees,random_state=seed)\n",
    "results=cross_val_score(model1,X,y,cv=5)\n",
    "print('BaggingClassifier=',results.mean())\n",
    "\n",
    "#Random Forest\n",
    "from sklearn.ensemble import RandomForestClassifier\n",
    "max_features=2\n",
    "model2=RandomForestClassifier(n_estimators=num_trees,max_features=max_features)\n",
    "results2=cross_val_score(model2,X,y,cv=5)\n",
    "print('RandomForestClassifier=',results2.mean())\n",
    "\n",
    "#extrea Trees\n",
    "from sklearn.ensemble import ExtraTreesClassifier\n",
    "model3=ExtraTreesClassifier(n_estimators=num_trees,max_features=max_features)\n",
    "results3=cross_val_score(model3,X,y,cv=5) \n",
    "print('ExtraTreesClassifier=',results3.mean())\n",
    "\n",
    "#adaboost\n",
    "from sklearn.ensemble import AdaBoostClassifier\n",
    "model4=AdaBoostClassifier(n_estimators=num_trees)\n",
    "results4=cross_val_score(model4,X,y,cv=5)\n",
    "print('AdaBoostClassifier=',results4.mean())\n",
    "\n",
    "#stochastic Gradient Boosting\n",
    "from sklearn.ensemble import GradientBoostingClassifier\n",
    "model5=GradientBoostingClassifier(n_estimators=num_trees,max_features=max_features)\n",
    "results5=cross_val_score(model5,X,y,cv=5)\n",
    "print('GradientBoostingClassifier=',results5.mean())\n",
    "\n",
    "\n",
    "#voting Ensemble\n",
    "from sklearn.ensemble import VotingClassifier\n",
    "estimators1=[]\n",
    "model1=BaggingClassifier\n",
    "estimators1.append(('BaggingClassifier',model1))\n",
    "model2=RandomForestClassifier\n",
    "estimators1.append(('RandomForestClassifier',model2))\n",
    "model3=ExtraTreesClassifier\n",
    "estimators1.append(('ExtraTreesClassifier',model3))\n",
    "model4=AdaBoostClassifier\n",
    "estimators1.append(('AdaBoostClassifier',model4))\n",
    "model5=GradientBoostingClassifier\n",
    "estimators1.append(('GradientBoostingClassifier',model5))\n",
    "end=time.time()\n",
    "print(\"time=\",end-start)"
   ]
  },
  {
   "cell_type": "code",
   "execution_count": 49,
   "metadata": {},
   "outputs": [
    {
     "name": "stderr",
     "output_type": "stream",
     "text": [
      "No handles with labels found to put in legend.\n"
     ]
    },
    {
     "data": {
      "image/png": "[encoded data removed]",
      "text/plain": [
       "<Figure size 864x576 with 1 Axes>"
      ]
     },
     "metadata": {
      "needs_background": "light"
     },
     "output_type": "display_data"
    }
   ],
   "source": [
    "import matplotlib.pyplot as plt\n",
    "python_course_green = \"#476042\"\n",
    "plt.figure(figsize=(12, 8))\n",
    "plt.subplot(221) # equivalent to: plt.subplot(2, 2, 1)\n",
    "\n",
    "\n",
    "Values1=[0.96,0.96,0.96,0.55,0.96]\n",
    "\n",
    "labels1=['Bagging','RFC','ETrC','AdaBoost','GBC']\n",
    "xs=[i for i,_ in enumerate(labels1)]\n",
    "plt.bar(xs,Values1)\n",
    "plt.xticks(xs,labels1)\n",
    "plt.title('Ensemble Algoritm(Bagged Disition trees) ')\n",
    "plt.xlabel('Algoritm ML')\n",
    "plt.ylabel('Accuracy')\n",
    "plt.legend(loc='lower right')\n",
    "plt.show()"
   ]
  },
  {
   "cell_type": "code",
   "execution_count": 50,
   "metadata": {},
   "outputs": [
    {
     "name": "stderr",
     "output_type": "stream",
     "text": [
      "C:\\ProgramData\\Anaconda3\\lib\\site-packages\\sklearn\\neural_network\\multilayer_perceptron.py:564: ConvergenceWarning: Stochastic Optimizer: Maximum iterations (200) reached and the optimization hasn't converged yet.\n",
      "  % self.max_iter, ConvergenceWarning)\n"
     ]
    },
    {
     "name": "stdout",
     "output_type": "stream",
     "text": [
      "Accuracy: 1.000000\n",
      "time= 5.92046594619751\n"
     ]
    }
   ],
   "source": [
    "##################### مرحله آخر#############################\n",
    "import time\n",
    "start=time.time()\n",
    "from stacked_generalization import StackedGeneralizer\n",
    "import stacked_generalization\n",
    "from mlxtend.classifier import StackingClassifier\n",
    "from sklearn.ensemble import RandomForestClassifier, GradientBoostingClassifier\n",
    "from sklearn.linear_model import LogisticRegression, RidgeClassifier\n",
    "from sklearn import datasets, metrics\n",
    "\n",
    "# Stage 1 model\n",
    "bclf = LogisticRegression()\n",
    "\n",
    "# Stage 0 models\n",
    "clfs = [clf1,clf2,clf3,clf4,clf4,clf6,clf7,clf8,clf9]\n",
    "\n",
    "\n",
    "# same interface as scikit-learn\n",
    "sl = StackingClassifier(classifiers=clfs,meta_classifier=bclf)\n",
    "sl.fit(X,y)\n",
    "score = metrics.accuracy_score(y, sl.predict(X))\n",
    "print(\"Accuracy: %f\" % score)\n",
    "end=time.time()\n",
    "print(\"time=\",end-start)"
   ]
  },
  {
   "cell_type": "code",
   "execution_count": null,
   "metadata": {},
   "outputs": [],
   "source": []
  },
  {
   "cell_type": "code",
   "execution_count": 76,
   "metadata": {},
   "outputs": [
    {
     "name": "stdout",
     "output_type": "stream",
     "text": [
      "[Result] Stack= [0]\n"
     ]
    }
   ],
   "source": [
    "Diabetic_prediction_SL=sl.predict([[1,2]])\n",
    "lookup_Diabetic_name_Stack=[Diabetic_prediction_SL[0]]\n",
    "print('[Result]','Stack=',lookup_Diabetic_name_Stack)"
   ]
  },
  {
   "cell_type": "code",
   "execution_count": 78,
   "metadata": {},
   "outputs": [
    {
     "name": "stdout",
     "output_type": "stream",
     "text": [
      "Accuracy: 0.980000\n",
      "time= 0.09197282791137695\n"
     ]
    }
   ],
   "source": [
    "##################### مرحله آخر#############################\n",
    "import time\n",
    "start=time.time()\n",
    "from stacked_generalization import StackedGeneralizer\n",
    "import stacked_generalization\n",
    "from mlxtend.classifier import StackingClassifier\n",
    "from sklearn.ensemble import RandomForestClassifier, GradientBoostingClassifier\n",
    "from sklearn.linear_model import LogisticRegression, RidgeClassifier\n",
    "from sklearn import datasets, metrics\n",
    "\n",
    "# Stage 1 model\n",
    "bclf = LogisticRegression()\n",
    "\n",
    "# Stage 0 models\n",
    "clfs = [clf1,clf2,clf3]\n",
    "\n",
    "\n",
    "# same interface as scikit-learn\n",
    "sl = StackingClassifier(classifiers=clfs,meta_classifier=bclf)\n",
    "sl.fit(X,y)\n",
    "score = metrics.accuracy_score(y, sl.predict(X))\n",
    "print(\"Accuracy: %f\" % score)\n",
    "end=time.time()\n",
    "print(\"time=\",end-start)"
   ]
  },
  {
   "cell_type": "code",
   "execution_count": 80,
   "metadata": {},
   "outputs": [
    {
     "name": "stdout",
     "output_type": "stream",
     "text": [
      "[Result] Stack= [0]\n"
     ]
    }
   ],
   "source": [
    "Diabetic_prediction_SL=sl.predict([[1,2,3,4]])\n",
    "lookup_Diabetic_name_Stack=[Diabetic_prediction_SL[0]]\n",
    "print('[Result]','Stack=',lookup_Diabetic_name_Stack)"
   ]
  },
  {
   "cell_type": "code",
   "execution_count": 81,
   "metadata": {},
   "outputs": [
    {
     "name": "stdout",
     "output_type": "stream",
     "text": [
      "Accuracy: 1.000000\n",
      "time= 1.2484543323516846\n"
     ]
    }
   ],
   "source": [
    "##################### مرحله آخر#############################\n",
    "import time\n",
    "start=time.time()\n",
    "from stacked_generalization import StackedGeneralizer\n",
    "import stacked_generalization\n",
    "from mlxtend.classifier import StackingClassifier\n",
    "from sklearn.ensemble import RandomForestClassifier, GradientBoostingClassifier\n",
    "from sklearn.linear_model import LogisticRegression, RidgeClassifier\n",
    "from sklearn import datasets, metrics\n",
    "\n",
    "# Stage 1 model\n",
    "bclf = LogisticRegression()\n",
    "\n",
    "# Stage 0 models\n",
    "clfs = [clf4,clf4,clf6,clf7,clf8,clf9]\n",
    "\n",
    "\n",
    "# same interface as scikit-learn\n",
    "sl = StackingClassifier(classifiers=clfs,meta_classifier=bclf)\n",
    "sl.fit(X,y)\n",
    "score = metrics.accuracy_score(y, sl.predict(X))\n",
    "print(\"Accuracy: %f\" % score)\n",
    "end=time.time()\n",
    "print(\"time=\",end-start)"
   ]
  },
  {
   "cell_type": "code",
   "execution_count": 82,
   "metadata": {},
   "outputs": [
    {
     "name": "stdout",
     "output_type": "stream",
     "text": [
      "Accuracy: 1.000000\n",
      "time= 0.8067913055419922\n"
     ]
    }
   ],
   "source": [
    "##################### مرحله آخر#############################\n",
    "import time\n",
    "start=time.time()\n",
    "from stacked_generalization import StackedGeneralizer\n",
    "import stacked_generalization\n",
    "from mlxtend.classifier import StackingClassifier\n",
    "from sklearn.ensemble import RandomForestClassifier, GradientBoostingClassifier\n",
    "from sklearn.linear_model import LogisticRegression, RidgeClassifier\n",
    "from sklearn import datasets, metrics\n",
    "\n",
    "# Stage 1 model\n",
    "bclf = LogisticRegression()\n",
    "\n",
    "# Stage 0 models\n",
    "clfs = [RandomForestClassifier(n_estimators=40, criterion = 'gini', random_state=1),\n",
    "        GradientBoostingClassifier(n_estimators=25, random_state=1),\n",
    "        RidgeClassifier(random_state=1)]\n",
    "\n",
    "\n",
    "# same interface as scikit-learn\n",
    "sl = StackingClassifier(classifiers=clfs,meta_classifier=bclf)\n",
    "sl.fit(X,y)\n",
    "score = metrics.accuracy_score(y, sl.predict(X))\n",
    "print(\"Accuracy: %f\" % score)\n",
    "\n",
    "end=time.time()\n",
    "print(\"time=\",end-start)"
   ]
  },
  {
   "cell_type": "code",
   "execution_count": 84,
   "metadata": {},
   "outputs": [
    {
     "name": "stdout",
     "output_type": "stream",
     "text": [
      "[Result] Stack= [0]\n"
     ]
    }
   ],
   "source": [
    "Diabetic_prediction_SL=sl.predict([[1,2,3,4]])\n",
    "lookup_Diabetic_name_Stack=[Diabetic_prediction_SL[0]]\n",
    "print('[Result]','Stack=',lookup_Diabetic_name_Stack)"
   ]
  },
  {
   "cell_type": "code",
   "execution_count": 85,
   "metadata": {},
   "outputs": [
    {
     "name": "stdout",
     "output_type": "stream",
     "text": [
      "Fitting Base Models...\n",
      "Fitting model 01: RandomForestClassifier(bootstrap=True, class_weight=None, criterion='gini',\n",
      "            max_depth=None, max_features='auto', max_leaf_nodes=None,\n",
      "            min_impurity_decrease=0.0, min_impurity_split=None,\n",
      "            min_samples_leaf=1, min_samples_split=2,\n",
      "            min_weight_fraction_leaf=0.0, n_estimators=100, n_jobs=-1,\n",
      "            oob_score=False, random_state=None, verbose=0,\n",
      "            warm_start=False)\n",
      "Fold 1\n",
      "Fold 2\n",
      "Fold 3\n",
      "Fold 4\n",
      "Fold 5\n",
      "Fitting model 02: RandomForestClassifier(bootstrap=True, class_weight=None, criterion='entropy',\n",
      "            max_depth=None, max_features='auto', max_leaf_nodes=None,\n",
      "            min_impurity_decrease=0.0, min_impurity_split=None,\n",
      "            min_samples_leaf=1, min_samples_split=2,\n",
      "            min_weight_fraction_leaf=0.0, n_estimators=100, n_jobs=-1,\n",
      "            oob_score=False, random_state=None, verbose=0,\n",
      "            warm_start=False)\n",
      "Fold 1\n",
      "Fold 2\n",
      "Fold 3\n",
      "Fold 4\n",
      "Fold 5\n",
      "Fitting model 03: ExtraTreesClassifier(bootstrap=False, class_weight=None, criterion='gini',\n",
      "           max_depth=None, max_features='auto', max_leaf_nodes=None,\n",
      "           min_impurity_decrease=0.0, min_impurity_split=None,\n",
      "           min_samples_leaf=1, min_samples_split=2,\n",
      "           min_weight_fraction_leaf=0.0, n_estimators=100, n_jobs=-1,\n",
      "           oob_score=False, random_state=None, verbose=0, warm_start=False)\n",
      "Fold 1\n",
      "Fold 2\n",
      "Fold 3\n",
      "Fold 4\n",
      "Fold 5\n",
      "Fitting Blending Model:\n",
      "LogisticRegression(C=1.0, class_weight=None, dual=False, fit_intercept=True,\n",
      "          intercept_scaling=1, max_iter=100, multi_class='ovr', n_jobs=1,\n",
      "          penalty='l2', random_state=None, solver='liblinear', tol=0.0001,\n",
      "          verbose=0, warm_start=False)\n",
      "Fold 0\n",
      "Fold 1\n",
      "Fold 2\n",
      "Fold 3\n",
      "Fold 4\n",
      "             precision    recall  f1-score   support\n",
      "\n",
      "          0       1.00      1.00      1.00        97\n",
      "          1       1.00      1.00      1.00        53\n",
      "\n",
      "avg / total       1.00      1.00      1.00       150\n",
      "\n",
      "Confusion Matrix:\n",
      "[[97  0]\n",
      " [ 0 53]]\n",
      "time= 10.89089035987854\n"
     ]
    }
   ],
   "source": [
    "#stacked_generalizer for 300 Record from Dataset and with 3 Approch\n",
    "import time\n",
    "start=time.time()\n",
    "\n",
    "from stacked_generalizer import StackedGeneralizer\n",
    "from sklearn.ensemble import RandomForestClassifier, ExtraTreesClassifier\n",
    "from sklearn.linear_model import LogisticRegression\n",
    "import numpy as np\n",
    "VERBOSE = True\n",
    "N_FOLDS = 5\n",
    "\n",
    "# load data and shuffle observations\n",
    "shuffle_idx = np.random.permutation(y.size)\n",
    "\n",
    "# define base models\n",
    "base_models = [RandomForestClassifier(n_estimators=100, n_jobs=-1, criterion='gini'),\n",
    "              RandomForestClassifier(n_estimators=100, n_jobs=-1, criterion='entropy'),\n",
    "              ExtraTreesClassifier(n_estimators=100, n_jobs=-1, criterion='gini')]\n",
    "              \n",
    "# define blending model\n",
    "blending_model = LogisticRegression()\n",
    "\n",
    "# initialize multi-stage model\n",
    "sg = StackedGeneralizer(base_models, blending_model,n_folds=N_FOLDS, verbose=VERBOSE)\n",
    "\n",
    "# fit model\n",
    "sg.fit(X,y)\n",
    "\n",
    "# test accuracy\n",
    "pred = sg.predict(X)\n",
    "pred_classes = [np.argmax(p) for p in pred]\n",
    "_ = sg.evaluate(y, pred_classes)\n",
    "end=time.time()\n",
    "print(\"time=\",end-start)"
   ]
  },
  {
   "cell_type": "code",
   "execution_count": 86,
   "metadata": {},
   "outputs": [
    {
     "name": "stdout",
     "output_type": "stream",
     "text": [
      "RandomForestClassifier(bootstrap=True, class_weight=None, criterion='gini',\n",
      "            max_depth=None, max_features='auto', max_leaf_nodes=None,\n",
      "            min_impurity_decrease=0.0, min_impurity_split=None,\n",
      "            min_samples_leaf=1, min_samples_split=2,\n",
      "            min_weight_fraction_leaf=0.0, n_estimators=10, n_jobs=-1,\n",
      "            oob_score=False, random_state=None, verbose=0,\n",
      "            warm_start=False)\n",
      "\n",
      "LogisticRegression(C=1.0, class_weight=None, dual=False, fit_intercept=True,\n",
      "          intercept_scaling=1, max_iter=100, multi_class='ovr', n_jobs=1,\n",
      "          penalty='l2', random_state=None, solver='liblinear', tol=0.0001,\n",
      "          verbose=0, warm_start=False)\n",
      "Fitting Base Models...\n",
      "Fitting model 01: RandomForestClassifier(bootstrap=True, class_weight=None, criterion='gini',\n",
      "            max_depth=None, max_features='auto', max_leaf_nodes=None,\n",
      "            min_impurity_decrease=0.0, min_impurity_split=None,\n",
      "            min_samples_leaf=1, min_samples_split=2,\n",
      "            min_weight_fraction_leaf=0.0, n_estimators=10, n_jobs=-1,\n",
      "            oob_score=False, random_state=None, verbose=0,\n",
      "            warm_start=False)\n",
      "Fold 1\n",
      "Fold 2\n",
      "Fold 3\n",
      "Fold 4\n",
      "Fold 5\n",
      "Fitting model 02: RandomForestClassifier(bootstrap=True, class_weight=None, criterion='entropy',\n",
      "            max_depth=None, max_features='auto', max_leaf_nodes=None,\n",
      "            min_impurity_decrease=0.0, min_impurity_split=None,\n",
      "            min_samples_leaf=1, min_samples_split=2,\n",
      "            min_weight_fraction_leaf=0.0, n_estimators=10, n_jobs=-1,\n",
      "            oob_score=False, random_state=None, verbose=0,\n",
      "            warm_start=False)\n",
      "Fold 1\n",
      "Fold 2\n",
      "Fold 3\n",
      "Fold 4\n",
      "Fold 5\n",
      "Fitting model 03: ExtraTreesClassifier(bootstrap=False, class_weight=None, criterion='gini',\n",
      "           max_depth=None, max_features='auto', max_leaf_nodes=None,\n",
      "           min_impurity_decrease=0.0, min_impurity_split=None,\n",
      "           min_samples_leaf=1, min_samples_split=2,\n",
      "           min_weight_fraction_leaf=0.0, n_estimators=10, n_jobs=-1,\n",
      "           oob_score=False, random_state=None, verbose=0, warm_start=False)\n",
      "Fold 1\n",
      "Fold 2\n",
      "Fold 3\n",
      "Fold 4\n",
      "Fold 5\n",
      "Fitting Blending Model:\n",
      "LogisticRegression(C=1.0, class_weight=None, dual=False, fit_intercept=True,\n",
      "          intercept_scaling=1, max_iter=100, multi_class='ovr', n_jobs=1,\n",
      "          penalty='l2', random_state=None, solver='liblinear', tol=0.0001,\n",
      "          verbose=0, warm_start=False)\n",
      "Fold 0\n",
      "Fold 1\n",
      "Fold 2\n",
      "Fold 3\n",
      "Fold 4\n",
      "             precision    recall  f1-score   support\n",
      "\n",
      "          0       1.00      1.00      1.00       500\n",
      "          1       1.00      1.00      1.00       268\n",
      "\n",
      "avg / total       1.00      1.00      1.00       768\n",
      "\n",
      "Confusion Matrix:\n",
      "[[500   0]\n",
      " [  0 268]]\n",
      "time= 5.523882627487183\n"
     ]
    }
   ],
   "source": [
    "#stacked_generalizer for 768 Record from Dataset and with 3 Approch\n",
    "import time\n",
    "start=time.time()\n",
    "import numpy as np\n",
    "import matplotlib.pyplot as plt\n",
    "import pandas as pd\n",
    "import seaborn as sns\n",
    "from sklearn.model_selection import cross_val_score\n",
    "from sklearn.ensemble import ExtraTreesClassifier\n",
    "from sklearn.tree import DecisionTreeClassifier\n",
    "from sklearn.model_selection import train_test_split\n",
    "from stacked_generalizer import StackedGeneralizer\n",
    "from sklearn.ensemble import RandomForestClassifier\n",
    "from sklearn.linear_model import LogisticRegression\n",
    "\n",
    "# get_ipython().run_line_magic('matplotlib', 'inline')\n",
    "Diabetic = pd.read_csv('Diabetic.csv')\n",
    "# return\n",
    "\n",
    "\n",
    "# In[2]:\n",
    "\n",
    "\n",
    "X = Diabetic[\n",
    "    ['Pregnancies', 'Glucose', 'BloodPressure', 'SkinThickness', 'Insulin', 'BMI', 'DiabetesPedigreeFunction', 'Age']]\n",
    "X = X.values\n",
    "y = Diabetic['Outcome']\n",
    "y = y.values\n",
    "\n",
    "X_train, X_test, y_train, y_test = train_test_split(X, y, test_size=0.5, random_state=0)\n",
    "\n",
    "# In[3]:\n",
    "\n",
    "\n",
    "VERBOSE = True\n",
    "N_FOLDS = 5\n",
    "\n",
    "# load data and shuffle observations\n",
    "shuffle_idx = np.random.permutation(y.size)\n",
    "\n",
    "# define base models\n",
    "base_models = [RandomForestClassifier(n_estimators=10, n_jobs=-1, criterion='gini'),\n",
    "               RandomForestClassifier(n_estimators=10, n_jobs=-1, criterion='entropy'),\n",
    "               ExtraTreesClassifier(n_estimators=10, n_jobs=-1, criterion='gini')]\n",
    "\n",
    "# define blending model\n",
    "blending_model = LogisticRegression()\n",
    "\n",
    "print(base_models[0])\n",
    "print()\n",
    "print(blending_model)\n",
    "# initialize multi-stage model\n",
    "sg = StackedGeneralizer(base_models, blending_model, n_folds=N_FOLDS, verbose=VERBOSE)\n",
    "\n",
    "# fit model\n",
    "sg.fit(X, y)\n",
    "\n",
    "# test accuracy\n",
    "pred = sg.predict(X)\n",
    "pred_classes = [np.argmax(p) for p in pred]\n",
    "_ = sg.evaluate(y, pred_classes)\n",
    "\n",
    "end=time.time()\n",
    "print(\"time=\",end-start)"
   ]
  },
  {
   "cell_type": "code",
   "execution_count": 102,
   "metadata": {},
   "outputs": [
    {
     "ename": "AttributeError",
     "evalue": "'list' object has no attribute 'shape'",
     "output_type": "error",
     "traceback": [
      "\u001b[1;31m---------------------------------------------------------------------------\u001b[0m",
      "\u001b[1;31mAttributeError\u001b[0m                            Traceback (most recent call last)",
      "\u001b[1;32m<ipython-input-102-231e54be0b21>\u001b[0m in \u001b[0;36m<module>\u001b[1;34m()\u001b[0m\n\u001b[1;32m----> 1\u001b[1;33m \u001b[0mDiabetic_prediction_SL\u001b[0m\u001b[1;33m=\u001b[0m\u001b[0msg\u001b[0m\u001b[1;33m.\u001b[0m\u001b[0mpredict\u001b[0m\u001b[1;33m(\u001b[0m\u001b[1;33m[\u001b[0m\u001b[1;33m[\u001b[0m\u001b[1;36m1\u001b[0m\u001b[1;33m,\u001b[0m\u001b[1;36m2\u001b[0m\u001b[1;33m,\u001b[0m\u001b[1;36m3\u001b[0m\u001b[1;33m,\u001b[0m\u001b[1;36m4\u001b[0m\u001b[1;33m,\u001b[0m\u001b[1;36m5\u001b[0m\u001b[1;33m,\u001b[0m\u001b[1;36m6\u001b[0m\u001b[1;33m,\u001b[0m\u001b[1;36m7\u001b[0m\u001b[1;33m,\u001b[0m\u001b[1;36m8\u001b[0m\u001b[1;33m]\u001b[0m\u001b[1;33m]\u001b[0m\u001b[1;33m)\u001b[0m\u001b[1;33m\u001b[0m\u001b[0m\n\u001b[0m\u001b[0;32m      2\u001b[0m \u001b[0mlookup_Diabetic_name_Stack\u001b[0m\u001b[1;33m=\u001b[0m\u001b[1;33m[\u001b[0m\u001b[0mDiabetic_prediction_SL\u001b[0m\u001b[1;33m[\u001b[0m\u001b[1;36m0\u001b[0m\u001b[1;33m]\u001b[0m\u001b[1;33m]\u001b[0m\u001b[1;33m\u001b[0m\u001b[0m\n\u001b[0;32m      3\u001b[0m \u001b[0mprint\u001b[0m\u001b[1;33m(\u001b[0m\u001b[1;34m'[Result]'\u001b[0m\u001b[1;33m,\u001b[0m\u001b[1;34m'Stack='\u001b[0m\u001b[1;33m,\u001b[0m\u001b[0mlookup_Diabetic_name_Stack\u001b[0m\u001b[1;33m)\u001b[0m\u001b[1;33m\u001b[0m\u001b[0m\n",
      "\u001b[1;32m~\\Pictures\\Diabetes\\stacked_generalizer.py\u001b[0m in \u001b[0;36mpredict\u001b[1;34m(self, X)\u001b[0m\n\u001b[0;32m    205\u001b[0m         \u001b[1;32mdef\u001b[0m \u001b[0mpredict\u001b[0m\u001b[1;33m(\u001b[0m\u001b[0mself\u001b[0m\u001b[1;33m,\u001b[0m \u001b[0mX\u001b[0m\u001b[1;33m)\u001b[0m\u001b[1;33m:\u001b[0m\u001b[1;33m\u001b[0m\u001b[0m\n\u001b[0;32m    206\u001b[0m                 \u001b[1;31m# perform model averaging to get predictions\u001b[0m\u001b[1;33m\u001b[0m\u001b[1;33m\u001b[0m\u001b[0m\n\u001b[1;32m--> 207\u001b[1;33m                 \u001b[0mX_blend\u001b[0m \u001b[1;33m=\u001b[0m \u001b[0mself\u001b[0m\u001b[1;33m.\u001b[0m\u001b[0mtransform_base_models\u001b[0m\u001b[1;33m(\u001b[0m\u001b[0mX\u001b[0m\u001b[1;33m)\u001b[0m\u001b[1;33m\u001b[0m\u001b[0m\n\u001b[0m\u001b[0;32m    208\u001b[0m                 \u001b[0mpredictions\u001b[0m \u001b[1;33m=\u001b[0m \u001b[0mself\u001b[0m\u001b[1;33m.\u001b[0m\u001b[0mtransform_blending_model\u001b[0m\u001b[1;33m(\u001b[0m\u001b[0mX_blend\u001b[0m\u001b[1;33m)\u001b[0m\u001b[1;33m\u001b[0m\u001b[0m\n\u001b[0;32m    209\u001b[0m \u001b[1;33m\u001b[0m\u001b[0m\n",
      "\u001b[1;32m~\\Pictures\\Diabetes\\stacked_generalizer.py\u001b[0m in \u001b[0;36mtransform_base_models\u001b[1;34m(self, X)\u001b[0m\n\u001b[0;32m    147\u001b[0m \u001b[1;33m\u001b[0m\u001b[0m\n\u001b[0;32m    148\u001b[0m                                 \u001b[1;32mif\u001b[0m \u001b[0mcv_predictions\u001b[0m \u001b[1;32mis\u001b[0m \u001b[1;32mNone\u001b[0m\u001b[1;33m:\u001b[0m\u001b[1;33m\u001b[0m\u001b[0m\n\u001b[1;32m--> 149\u001b[1;33m                                         \u001b[0mcv_predictions\u001b[0m \u001b[1;33m=\u001b[0m \u001b[0mnp\u001b[0m\u001b[1;33m.\u001b[0m\u001b[0mzeros\u001b[0m\u001b[1;33m(\u001b[0m\u001b[1;33m(\u001b[0m\u001b[0mn_models\u001b[0m\u001b[1;33m,\u001b[0m \u001b[0mX\u001b[0m\u001b[1;33m.\u001b[0m\u001b[0mshape\u001b[0m\u001b[1;33m[\u001b[0m\u001b[1;36m0\u001b[0m\u001b[1;33m]\u001b[0m\u001b[1;33m,\u001b[0m \u001b[0mmodel_predictions\u001b[0m\u001b[1;33m.\u001b[0m\u001b[0mshape\u001b[0m\u001b[1;33m[\u001b[0m\u001b[1;36m1\u001b[0m\u001b[1;33m]\u001b[0m\u001b[1;33m)\u001b[0m\u001b[1;33m)\u001b[0m\u001b[1;33m\u001b[0m\u001b[0m\n\u001b[0m\u001b[0;32m    150\u001b[0m \u001b[1;33m\u001b[0m\u001b[0m\n\u001b[0;32m    151\u001b[0m                                 \u001b[0mcv_predictions\u001b[0m\u001b[1;33m[\u001b[0m\u001b[0mi\u001b[0m\u001b[1;33m,\u001b[0m\u001b[1;33m:\u001b[0m\u001b[1;33m,\u001b[0m\u001b[1;33m:\u001b[0m\u001b[1;33m]\u001b[0m \u001b[1;33m=\u001b[0m \u001b[0mmodel_predictions\u001b[0m\u001b[1;33m\u001b[0m\u001b[0m\n",
      "\u001b[1;31mAttributeError\u001b[0m: 'list' object has no attribute 'shape'"
     ]
    }
   ],
   "source": [
    "Diabetic_prediction_SL=sg.predict([[1,2,3,4,5,6,7,8]])\n",
    "lookup_Diabetic_name_Stack=[Diabetic_prediction_SL[0]]\n",
    "print('[Result]','Stack=',lookup_Diabetic_name_Stack)"
   ]
  },
  {
   "cell_type": "code",
   "execution_count": 98,
   "metadata": {},
   "outputs": [
    {
     "name": "stdout",
     "output_type": "stream",
     "text": [
      "\n",
      "Fitting Base Models...\n",
      "Fitting model 01: RandomForestClassifier(bootstrap=True, class_weight=None, criterion='gini',\n",
      "            max_depth=None, max_features='auto', max_leaf_nodes=None,\n",
      "            min_impurity_decrease=0.0, min_impurity_split=None,\n",
      "            min_samples_leaf=1, min_samples_split=2,\n",
      "            min_weight_fraction_leaf=0.0, n_estimators=12, n_jobs=1,\n",
      "            oob_score=False, random_state=None, verbose=0,\n",
      "            warm_start=False)\n",
      "Fold 1\n",
      "Fold 2\n",
      "Fold 3\n",
      "Fold 4\n",
      "Fold 5\n",
      "Fitting model 02: KNeighborsClassifier(algorithm='auto', leaf_size=738, metric='minkowski',\n",
      "           metric_params=None, n_jobs=1, n_neighbors=2, p=1,\n",
      "           weights='uniform')\n",
      "Fold 1\n",
      "Fold 2\n",
      "Fold 3\n",
      "Fold 4\n",
      "Fold 5\n",
      "Fitting model 03: MLPClassifier(activation='relu', alpha=0.01, batch_size='auto', beta_1=0.9,\n",
      "       beta_2=0.999, early_stopping=False, epsilon=1e-08,\n",
      "       hidden_layer_sizes=(100,), learning_rate='constant',\n",
      "       learning_rate_init=0.001, max_iter=200, momentum=0.9,\n",
      "       nesterovs_momentum=True, power_t=0.5, random_state=None,\n",
      "       shuffle=False, solver='adam', tol=0.0001, validation_fraction=0.9,\n",
      "       verbose=False, warm_start=False)\n",
      "Fold 1\n",
      "Fold 2\n",
      "Fold 3\n",
      "Fold 4\n",
      "Fold 5\n",
      "Fitting model 04: AdaBoostClassifier(algorithm='SAMME.R', base_estimator=None,\n",
      "          learning_rate=1.0, n_estimators=67, random_state=None)\n",
      "Fold 1\n",
      "Fold 2\n",
      "Fold 3\n",
      "Fold 4\n",
      "Fold 5\n",
      "Fitting model 05: AdaBoostClassifier(algorithm='SAMME.R', base_estimator=None,\n",
      "          learning_rate=1.0, n_estimators=67, random_state=None)\n",
      "Fold 1\n",
      "Fold 2\n",
      "Fold 3\n",
      "Fold 4\n",
      "Fold 5\n",
      "Fitting model 06: GaussianNB(priors=None)\n",
      "Fold 1\n",
      "Fold 2\n",
      "Fold 3\n",
      "Fold 4\n",
      "Fold 5\n",
      "Fitting model 07: GradientBoostingClassifier(criterion='friedman_mse', init=None,\n",
      "              learning_rate=0.1, loss='deviance', max_depth=11,\n",
      "              max_features=None, max_leaf_nodes=None,\n",
      "              min_impurity_decrease=0.0, min_impurity_split=None,\n",
      "              min_samples_leaf=2, min_samples_split=2,\n",
      "              min_weight_fraction_leaf=0.0, n_estimators=4, presort='auto',\n",
      "              random_state=2, subsample=1.0, verbose=0, warm_start=False)\n",
      "Fold 1\n",
      "Fold 2\n",
      "Fold 3\n",
      "Fold 4\n",
      "Fold 5\n",
      "Fitting model 08: SVC(C=1.0, cache_size=200, class_weight=None, coef0=0.0,\n",
      "  decision_function_shape='ovr', degree=3, gamma='auto', kernel='rbf',\n",
      "  max_iter=-1, probability=False, random_state=None, shrinking=True,\n",
      "  tol=0.001, verbose=False)\n",
      "Fold 1\n",
      "Fold 2\n",
      "Fold 3\n",
      "Fold 4\n",
      "Fold 5\n",
      "Fitting model 09: ExtraTreesClassifier(bootstrap=False, class_weight=None, criterion='gini',\n",
      "           max_depth=3, max_features='auto', max_leaf_nodes=None,\n",
      "           min_impurity_decrease=0.0, min_impurity_split=None,\n",
      "           min_samples_leaf=1, min_samples_split=2,\n",
      "           min_weight_fraction_leaf=0.0, n_estimators=100, n_jobs=-1,\n",
      "           oob_score=False, random_state=0, verbose=0, warm_start=False)\n",
      "Fold 1\n",
      "Fold 2\n",
      "Fold 3\n",
      "Fold 4\n",
      "Fold 5\n",
      "Fitting Blending Model:\n",
      "LogisticRegression(C=1.0, class_weight=None, dual=False, fit_intercept=True,\n",
      "          intercept_scaling=1, max_iter=100, multi_class='ovr', n_jobs=1,\n",
      "          penalty='l2', random_state=None, solver='liblinear', tol=0.0001,\n",
      "          verbose=0, warm_start=False)\n",
      "Fold 0\n",
      "Fold 1\n",
      "Fold 2\n",
      "Fold 3\n",
      "Fold 4\n",
      "             precision    recall  f1-score   support\n",
      "\n",
      "          0       1.00      1.00      1.00       500\n",
      "          1       1.00      1.00      1.00       268\n",
      "\n",
      "avg / total       1.00      1.00      1.00       768\n",
      "\n",
      "Confusion Matrix:\n",
      "[[500   0]\n",
      " [  0 268]]\n",
      "time= 9.667680740356445\n"
     ]
    }
   ],
   "source": [
    "#stacked_generalizer for 768 Record from Dataset and with 9 Approch\n",
    "import time\n",
    "start=time.time()\n",
    "\n",
    "import numpy as np\n",
    "import matplotlib.pyplot as plt\n",
    "import pandas as pd\n",
    "import seaborn as sns\n",
    "from sklearn.model_selection import cross_val_score\n",
    "from sklearn.ensemble import ExtraTreesClassifier\n",
    "from sklearn.tree import DecisionTreeClassifier\n",
    "from sklearn.model_selection import train_test_split\n",
    "from stacked_generalizer import StackedGeneralizer\n",
    "from sklearn.ensemble import RandomForestClassifier\n",
    "from sklearn.linear_model import LogisticRegression\n",
    "\n",
    "# get_ipython().run_line_magic('matplotlib', 'inline')\n",
    "Diabetic = pd.read_csv('Diabetic.csv')\n",
    "# return\n",
    "\n",
    "\n",
    "# In[2]:\n",
    "\n",
    "\n",
    "X = Diabetic[\n",
    "    ['Pregnancies', 'Glucose', 'BloodPressure', 'SkinThickness', 'Insulin', 'BMI', 'DiabetesPedigreeFunction', 'Age']]\n",
    "X = X.values\n",
    "y = Diabetic['Outcome']\n",
    "y = y.values\n",
    "\n",
    "X_train, X_test, y_train, y_test = train_test_split(X, y, test_size=10, random_state=0)\n",
    "\n",
    "# In[3]:\n",
    "\n",
    "\n",
    "VERBOSE = True\n",
    "N_FOLDS = 5\n",
    "\n",
    "# load data and shuffle observations\n",
    "shuffle_idx = np.random.permutation(y.size)\n",
    "\n",
    "# define base models\n",
    "base_models = [clf1,\n",
    "               clf2,\n",
    "               clf3,\n",
    "               clf4,\n",
    "               clf4,\n",
    "               clf6,\n",
    "               clf7,\n",
    "               clf8,\n",
    "               clf9]\n",
    "\n",
    "# define blending model\n",
    "blending_model = LogisticRegression()\n",
    "\n",
    "#print(base_models[0])\n",
    "print()\n",
    "#print(blending_model)\n",
    "# initialize multi-stage model\n",
    "sg = StackedGeneralizer(base_models, blending_model, n_folds=N_FOLDS, verbose=VERBOSE)\n",
    "\n",
    "# fit model\n",
    "sg.fit(X, y)\n",
    "\n",
    "# test accuracy\n",
    "pred = sg.predict(X)\n",
    "pred_classes = [np.argmax(p) for p in pred]\n",
    "_ = sg.evaluate(y, pred_classes)\n",
    "\n",
    "end=time.time()\n",
    "print(\"time=\",end-start)"
   ]
  },
  {
   "cell_type": "code",
   "execution_count": 101,
   "metadata": {},
   "outputs": [
    {
     "ename": "AttributeError",
     "evalue": "'list' object has no attribute 'shape'",
     "output_type": "error",
     "traceback": [
      "\u001b[1;31m---------------------------------------------------------------------------\u001b[0m",
      "\u001b[1;31mAttributeError\u001b[0m                            Traceback (most recent call last)",
      "\u001b[1;32m<ipython-input-101-231e54be0b21>\u001b[0m in \u001b[0;36m<module>\u001b[1;34m()\u001b[0m\n\u001b[1;32m----> 1\u001b[1;33m \u001b[0mDiabetic_prediction_SL\u001b[0m\u001b[1;33m=\u001b[0m\u001b[0msg\u001b[0m\u001b[1;33m.\u001b[0m\u001b[0mpredict\u001b[0m\u001b[1;33m(\u001b[0m\u001b[1;33m[\u001b[0m\u001b[1;33m[\u001b[0m\u001b[1;36m1\u001b[0m\u001b[1;33m,\u001b[0m\u001b[1;36m2\u001b[0m\u001b[1;33m,\u001b[0m\u001b[1;36m3\u001b[0m\u001b[1;33m,\u001b[0m\u001b[1;36m4\u001b[0m\u001b[1;33m,\u001b[0m\u001b[1;36m5\u001b[0m\u001b[1;33m,\u001b[0m\u001b[1;36m6\u001b[0m\u001b[1;33m,\u001b[0m\u001b[1;36m7\u001b[0m\u001b[1;33m,\u001b[0m\u001b[1;36m8\u001b[0m\u001b[1;33m]\u001b[0m\u001b[1;33m]\u001b[0m\u001b[1;33m)\u001b[0m\u001b[1;33m\u001b[0m\u001b[0m\n\u001b[0m\u001b[0;32m      2\u001b[0m \u001b[0mlookup_Diabetic_name_Stack\u001b[0m\u001b[1;33m=\u001b[0m\u001b[1;33m[\u001b[0m\u001b[0mDiabetic_prediction_SL\u001b[0m\u001b[1;33m[\u001b[0m\u001b[1;36m0\u001b[0m\u001b[1;33m]\u001b[0m\u001b[1;33m]\u001b[0m\u001b[1;33m\u001b[0m\u001b[0m\n\u001b[0;32m      3\u001b[0m \u001b[0mprint\u001b[0m\u001b[1;33m(\u001b[0m\u001b[1;34m'[Result]'\u001b[0m\u001b[1;33m,\u001b[0m\u001b[1;34m'Stack='\u001b[0m\u001b[1;33m,\u001b[0m\u001b[0mlookup_Diabetic_name_Stack\u001b[0m\u001b[1;33m)\u001b[0m\u001b[1;33m\u001b[0m\u001b[0m\n",
      "\u001b[1;32m~\\Pictures\\Diabetes\\stacked_generalizer.py\u001b[0m in \u001b[0;36mpredict\u001b[1;34m(self, X)\u001b[0m\n\u001b[0;32m    205\u001b[0m         \u001b[1;32mdef\u001b[0m \u001b[0mpredict\u001b[0m\u001b[1;33m(\u001b[0m\u001b[0mself\u001b[0m\u001b[1;33m,\u001b[0m \u001b[0mX\u001b[0m\u001b[1;33m)\u001b[0m\u001b[1;33m:\u001b[0m\u001b[1;33m\u001b[0m\u001b[0m\n\u001b[0;32m    206\u001b[0m                 \u001b[1;31m# perform model averaging to get predictions\u001b[0m\u001b[1;33m\u001b[0m\u001b[1;33m\u001b[0m\u001b[0m\n\u001b[1;32m--> 207\u001b[1;33m                 \u001b[0mX_blend\u001b[0m \u001b[1;33m=\u001b[0m \u001b[0mself\u001b[0m\u001b[1;33m.\u001b[0m\u001b[0mtransform_base_models\u001b[0m\u001b[1;33m(\u001b[0m\u001b[0mX\u001b[0m\u001b[1;33m)\u001b[0m\u001b[1;33m\u001b[0m\u001b[0m\n\u001b[0m\u001b[0;32m    208\u001b[0m                 \u001b[0mpredictions\u001b[0m \u001b[1;33m=\u001b[0m \u001b[0mself\u001b[0m\u001b[1;33m.\u001b[0m\u001b[0mtransform_blending_model\u001b[0m\u001b[1;33m(\u001b[0m\u001b[0mX_blend\u001b[0m\u001b[1;33m)\u001b[0m\u001b[1;33m\u001b[0m\u001b[0m\n\u001b[0;32m    209\u001b[0m \u001b[1;33m\u001b[0m\u001b[0m\n",
      "\u001b[1;32m~\\Pictures\\Diabetes\\stacked_generalizer.py\u001b[0m in \u001b[0;36mtransform_base_models\u001b[1;34m(self, X)\u001b[0m\n\u001b[0;32m    147\u001b[0m \u001b[1;33m\u001b[0m\u001b[0m\n\u001b[0;32m    148\u001b[0m                                 \u001b[1;32mif\u001b[0m \u001b[0mcv_predictions\u001b[0m \u001b[1;32mis\u001b[0m \u001b[1;32mNone\u001b[0m\u001b[1;33m:\u001b[0m\u001b[1;33m\u001b[0m\u001b[0m\n\u001b[1;32m--> 149\u001b[1;33m                                         \u001b[0mcv_predictions\u001b[0m \u001b[1;33m=\u001b[0m \u001b[0mnp\u001b[0m\u001b[1;33m.\u001b[0m\u001b[0mzeros\u001b[0m\u001b[1;33m(\u001b[0m\u001b[1;33m(\u001b[0m\u001b[0mn_models\u001b[0m\u001b[1;33m,\u001b[0m \u001b[0mX\u001b[0m\u001b[1;33m.\u001b[0m\u001b[0mshape\u001b[0m\u001b[1;33m[\u001b[0m\u001b[1;36m0\u001b[0m\u001b[1;33m]\u001b[0m\u001b[1;33m,\u001b[0m \u001b[0mmodel_predictions\u001b[0m\u001b[1;33m.\u001b[0m\u001b[0mshape\u001b[0m\u001b[1;33m[\u001b[0m\u001b[1;36m1\u001b[0m\u001b[1;33m]\u001b[0m\u001b[1;33m)\u001b[0m\u001b[1;33m)\u001b[0m\u001b[1;33m\u001b[0m\u001b[0m\n\u001b[0m\u001b[0;32m    150\u001b[0m \u001b[1;33m\u001b[0m\u001b[0m\n\u001b[0;32m    151\u001b[0m                                 \u001b[0mcv_predictions\u001b[0m\u001b[1;33m[\u001b[0m\u001b[0mi\u001b[0m\u001b[1;33m,\u001b[0m\u001b[1;33m:\u001b[0m\u001b[1;33m,\u001b[0m\u001b[1;33m:\u001b[0m\u001b[1;33m]\u001b[0m \u001b[1;33m=\u001b[0m \u001b[0mmodel_predictions\u001b[0m\u001b[1;33m\u001b[0m\u001b[0m\n",
      "\u001b[1;31mAttributeError\u001b[0m: 'list' object has no attribute 'shape'"
     ]
    }
   ],
   "source": [
    "Diabetic_prediction_SL=sg.predict([[1,2,3,4,5,6,7,8]])\n",
    "lookup_Diabetic_name_Stack=[Diabetic_prediction_SL[0]]\n",
    "print('[Result]','Stack=',lookup_Diabetic_name_Stack)"
   ]
  },
  {
   "cell_type": "code",
   "execution_count": 88,
   "metadata": {},
   "outputs": [
    {
     "ename": "ModuleNotFoundError",
     "evalue": "No module named 'genetic_selection'",
     "output_type": "error",
     "traceback": [
      "\u001b[1;31m---------------------------------------------------------------------------\u001b[0m",
      "\u001b[1;31mModuleNotFoundError\u001b[0m                       Traceback (most recent call last)",
      "\u001b[1;32m<ipython-input-88-960de27cf79c>\u001b[0m in \u001b[0;36m<module>\u001b[1;34m()\u001b[0m\n\u001b[0;32m      7\u001b[0m \u001b[1;32mimport\u001b[0m \u001b[0mnumpy\u001b[0m \u001b[1;32mas\u001b[0m \u001b[0mnp\u001b[0m\u001b[1;33m\u001b[0m\u001b[0m\n\u001b[0;32m      8\u001b[0m \u001b[1;32mfrom\u001b[0m \u001b[0msklearn\u001b[0m \u001b[1;32mimport\u001b[0m \u001b[0mlinear_model\u001b[0m\u001b[1;33m\u001b[0m\u001b[0m\n\u001b[1;32m----> 9\u001b[1;33m \u001b[1;32mfrom\u001b[0m \u001b[0mgenetic_selection\u001b[0m \u001b[1;32mimport\u001b[0m \u001b[0mGeneticSelectionCV\u001b[0m\u001b[1;33m\u001b[0m\u001b[0m\n\u001b[0m\u001b[0;32m     10\u001b[0m \u001b[1;33m\u001b[0m\u001b[0m\n\u001b[0;32m     11\u001b[0m \u001b[0mdata\u001b[0m \u001b[1;33m=\u001b[0m \u001b[0mnp\u001b[0m\u001b[1;33m.\u001b[0m\u001b[0mloadtxt\u001b[0m\u001b[1;33m(\u001b[0m\u001b[1;34m'Diabetic.csv'\u001b[0m\u001b[1;33m,\u001b[0m \u001b[0mdelimiter\u001b[0m\u001b[1;33m=\u001b[0m\u001b[1;34m','\u001b[0m\u001b[1;33m,\u001b[0m \u001b[0mskiprows\u001b[0m\u001b[1;33m=\u001b[0m\u001b[1;36m1\u001b[0m\u001b[1;33m)\u001b[0m\u001b[1;33m\u001b[0m\u001b[0m\n",
      "\u001b[1;31mModuleNotFoundError\u001b[0m: No module named 'genetic_selection'"
     ]
    }
   ],
   "source": [
    "#انتخاب ویژگی با الگوریتم ژنتیک\n",
    "#def Improvement_Selecting features_With_Meta_Algoritm():\n",
    "#Selecting features with genetic algorithm.\n",
    "import time\n",
    "start=time.time()\n",
    "from __future__ import print_function\n",
    "import numpy as np\n",
    "from sklearn import linear_model\n",
    "from genetic_selection import GeneticSelectionCV\n",
    "\n",
    "data = np.loadtxt('Diabetic.csv', delimiter=',', skiprows=1)\n",
    "X = data[:, :-1]\n",
    "Y = data[:, -1]\n",
    "\n",
    "\n",
    "def main():\n",
    "    Diabetic = np.loadtxt('Diabetic.csv', delimiter=',', skiprows=1)\n",
    "    X = data[:, :-1]\n",
    "    Y = data[:, -1]\n",
    "    \n",
    "    # Some noisy data not correlated\n",
    "    E = np.random.uniform(0, 0.1, size=(len(Diabetic.data), 20))\n",
    "\n",
    "    estimator = linear_model.LogisticRegression()\n",
    "    \n",
    "    selector = GeneticSelectionCV(estimator,\n",
    "                                  cv=5,\n",
    "                                  verbose=1,\n",
    "                                  scoring=\"accuracy\",\n",
    "                                  n_population=8,\n",
    "                                  crossover_proba=0.2,\n",
    "                                  mutation_proba=0.2,\n",
    "                                  n_generations=40,\n",
    "                                  crossover_independent_proba=0.5,\n",
    "                                  mutation_independent_proba=0.05,\n",
    "                                  tournament_size=3,\n",
    "                                  caching=True,\n",
    "                                  n_jobs=-1)\n",
    "    selector = selector.fit(X, y)\n",
    "\n",
    "    print(selector.support_)\n",
    "    \n",
    "    \n",
    "if __name__ == \"__main__\":\n",
    "    main()\n",
    "\n",
    "end=time.time()\n",
    "print(\"time=\",end-start)\n",
    "#Improvement_Stack_With_Meta_Algoritm()"
   ]
  },
  {
   "cell_type": "code",
   "execution_count": null,
   "metadata": {},
   "outputs": [],
   "source": [
    "#Feature Selection  with PySwarms \n",
    "\n",
    "# Import PySwarms\n",
    "import pyswarms as ps\n",
    "import seaborn as sns\n",
    "\n",
    "data=pd.read_csv('Diabetic.csv')\n",
    "data.head()\n",
    "X=data[['Pregnancies','Glucose','BloodPressure','SkinThickness','Insulin','BMI','DiabetesPedigreeFunction','Age']]\n",
    "y=data['Outcome']\n",
    "\n",
    "from sklearn.datasets import make_classification\n",
    "X, y = make_classification(n_samples=100, n_features=8, n_classes=2,\n",
    "                           n_informative=4, n_redundant=1, n_repeated=2,\n",
    "                           random_state=1)\n",
    "\n",
    "\n",
    "df = pd.DataFrame(X)\n",
    "df['labels'] = pd.Series(y)\n",
    "\n",
    "sns.pairplot(df, hue='labels');\n",
    "\n"
   ]
  },
  {
   "cell_type": "code",
   "execution_count": null,
   "metadata": {},
   "outputs": [],
   "source": [
    "from sklearn import linear_model\n",
    "\n",
    "# Create an instance of the classifier\n",
    "classifier = linear_model.LogisticRegression()\n",
    "\n",
    "# Define objective function\n",
    "def f_per_particle(m, alpha):\n",
    "    \"\"\"Computes for the objective function per particle\n",
    "\n",
    "    Inputs\n",
    "    ------\n",
    "    m : numpy.ndarray\n",
    "        Binary mask that can be obtained from BinaryPSO, will\n",
    "        be used to mask features.\n",
    "    alpha: float (default is 0.5)\n",
    "        Constant weight for trading-off classifier performance\n",
    "        and number of features\n",
    "\n",
    "    Returns\n",
    "    -------\n",
    "    numpy.ndarray\n",
    "        Computed objective function\n",
    "    \"\"\"\n",
    "    total_features = 15\n",
    "    # Get the subset of the features from the binary mask\n",
    "    if np.count_nonzero(m) == 0:\n",
    "        X_subset = X\n",
    "    else:\n",
    "        X_subset = X[:,m==1]\n",
    "    # Perform classification and store performance in P\n",
    "    classifier.fit(X_subset, y)\n",
    "    P = (classifier.predict(X_subset) == y).mean()\n",
    "    # Compute for the objective function\n",
    "    j = (alpha * (1.0 - P)\n",
    "        + (1.0 - alpha) * (1 - (X_subset.shape[1] / total_features)))\n",
    "\n",
    "    return j"
   ]
  },
  {
   "cell_type": "code",
   "execution_count": null,
   "metadata": {},
   "outputs": [],
   "source": [
    "def f(x, alpha=0.88):\n",
    "    \"\"\"Higher-level method to do classification in the\n",
    "    whole swarm.\n",
    "\n",
    "    Inputs\n",
    "    ------\n",
    "    x: numpy.ndarray of shape (n_particles, dimensions)\n",
    "        The swarm that will perform the search\n",
    "\n",
    "    Returns\n",
    "    -------\n",
    "    numpy.ndarray of shape (n_particles, )\n",
    "        The computed loss for each particle\n",
    "    \"\"\"\n",
    "    n_particles = x.shape[0]\n",
    "    j = [f_per_particle(x[i], alpha) for i in range(n_particles)]\n",
    "    return np.array(j)"
   ]
  },
  {
   "cell_type": "code",
   "execution_count": null,
   "metadata": {},
   "outputs": [],
   "source": [
    "# Initialize swarm, arbitrary\n",
    "options = {'c1': 0.5, 'c2': 0.5, 'w':0.9, 'k': 30, 'p':2}\n",
    "\n",
    "# Call instance of PSO\n",
    "dimensions = 8 # dimensions should be the number of features\n",
    "\n",
    "optimizer = ps.discrete.BinaryPSO(n_particles=30, dimensions=dimensions, options=options)\n",
    "\n",
    "# Perform optimization\n",
    "cost, pos = optimizer.optimize(f, print_step=100, iters=1000, verbose=2)"
   ]
  },
  {
   "cell_type": "code",
   "execution_count": null,
   "metadata": {},
   "outputs": [],
   "source": [
    "# Create two instances of LogisticRegression\n",
    "classfier = linear_model.LogisticRegression()\n",
    "\n",
    "# Get the selected features from the final positions\n",
    "X_selected_features = X[:,pos==1]  # subset\n",
    "\n",
    "# Perform classification and store performance in P\n",
    "classifier.fit(X_selected_features, y)\n",
    "\n",
    "# Compute performance\n",
    "subset_performance = (classifier.predict(X_selected_features) == y).mean()\n",
    "\n",
    "\n",
    "print('Subset performance: %.3f' % (subset_performance))"
   ]
  },
  {
   "cell_type": "code",
   "execution_count": null,
   "metadata": {},
   "outputs": [],
   "source": [
    "df1 = pd.DataFrame(X_selected_features)\n",
    "df1['labels'] = pd.Series(y)\n",
    "\n",
    "sns.pairplot(df1, hue='labels')"
   ]
  },
  {
   "cell_type": "code",
   "execution_count": null,
   "metadata": {},
   "outputs": [],
   "source": [
    "# Import modules\n",
    "import matplotlib.pyplot as plt\n",
    "import numpy as np\n",
    "from matplotlib import animation, rc\n",
    "from IPython.display import HTML\n",
    "\n",
    "# Import PySwarms\n",
    "import pyswarms as ps\n",
    "from pyswarms.utils.functions import single_obj as fx\n",
    "from pyswarms.utils.environments import PlotEnvironment\n",
    "\n",
    "# Some more magic so that the notebook will reload external python modules;\n",
    "# see http://stackoverflow.com/questions/1907993/autoreload-of-modules-in-ipython\n",
    "%load_ext autoreload\n",
    "%autoreload 2"
   ]
  },
  {
   "cell_type": "code",
   "execution_count": null,
   "metadata": {},
   "outputs": [],
   "source": [
    "options = {'c1':0.5, 'c2':0.3, 'w':0.9}\n",
    "optimizer = ps.single.GlobalBestPSO(n_particles=10, dimensions=3, options=options)"
   ]
  },
  {
   "cell_type": "code",
   "execution_count": null,
   "metadata": {},
   "outputs": [],
   "source": [
    "plt_env = PlotEnvironment(optimizer, fx.sphere_func, 1000)"
   ]
  },
  {
   "cell_type": "code",
   "execution_count": null,
   "metadata": {},
   "outputs": [],
   "source": [
    "plt_env.plot_cost(figsize=(6,4));\n",
    "plt.show()"
   ]
  },
  {
   "cell_type": "code",
   "execution_count": null,
   "metadata": {},
   "outputs": [],
   "source": [
    "# Import modules\n",
    "# Training a Neural Network\n",
    "#PSO\n",
    "import numpy as np\n",
    "import matplotlib.pyplot as plt\n",
    "from sklearn.utils import Bunch\n",
    "import pandas as pd\n",
    "# Import PySwarms\n",
    "import pyswarms as ps\n",
    "\n",
    "# Some more magic so that the notebook will reload external python modules;\n",
    "# see http://stackoverflow.com/questions/1907993/autoreload-of-modules-in-ipython\n",
    "# get_ipython().run_line_magic('load_ext', 'autoreload')\n",
    "# get_ipython().run_line_magic('autoreload', '2')"
   ]
  },
  {
   "cell_type": "code",
   "execution_count": null,
   "metadata": {},
   "outputs": [],
   "source": [
    "# Load the iris dataset\n",
    "data = pd.read_csv('Diabetic1.csv')\n",
    "\n",
    "\n",
    "# Store the features as X and the labels as y\n",
    "X = data.get(data.keys()[:4]).values\n",
    "print(X.dot)\n",
    "y = data.get(data.keys()[-1]).values"
   ]
  },
  {
   "cell_type": "code",
   "execution_count": null,
   "metadata": {},
   "outputs": [],
   "source": [
    "# Forward propagation\n",
    "def forward_prop(params):\n",
    "    \"\"\"Forward propagation as objective function\n",
    "\n",
    "    This computes for the forward propagation of the neural network, as\n",
    "    well as the loss. It receives a set of parameters that must be\n",
    "    rolled-back into the corresponding weights and biases.\n",
    "\n",
    "    Inputs\n",
    "    ------\n",
    "    params: np.ndarray\n",
    "        The dimensions should include an unrolled version of the\n",
    "        weights and biases.\n",
    "\n",
    "    Returns\n",
    "    -------\n",
    "    float\n",
    "        The computed negative log-likelihood loss given the parameters\n",
    "    \"\"\"\n",
    "    # Neural network architecture\n",
    "    n_inputs = 4\n",
    "    n_hidden = 20\n",
    "    n_classes = 3\n",
    "\n",
    "    # Roll-back the weights and biases\n",
    "    W1 = params[0:80].reshape((n_inputs, n_hidden))\n",
    "    b1 = params[80:100].reshape((n_hidden,))\n",
    "    W2 = params[100:160].reshape((n_hidden, n_classes))\n",
    "    b2 = params[160:163].reshape((n_classes,))\n",
    "\n",
    "    # Perform forward propagation\n",
    "    z1 = X.dot(W1) + b1  # Pre-activation in Layer 1\n",
    "    a1 = np.tanh(z1)  # Activation in Layer 1\n",
    "    z2 = a1.dot(W2) + b2  # Pre-activation in Layer 2\n",
    "    logits = z2  # Logits for Layer 2\n",
    "\n",
    "    # Compute for the softmax of the logits\n",
    "    exp_scores = np.exp(logits)\n",
    "    probs = exp_scores / np.sum(exp_scores, axis=1, keepdims=True)\n",
    "\n",
    "    # Compute for the negative log likelihood\n",
    "    N = 150  # Number of samples\n",
    "    corect_logprobs = -np.log(probs[range(N), y])\n",
    "    loss = np.sum(corect_logprobs) / N\n",
    "\n",
    "    return loss\n"
   ]
  },
  {
   "cell_type": "code",
   "execution_count": null,
   "metadata": {},
   "outputs": [],
   "source": [
    "def f(x):\n",
    "    \"\"\"Higher-level method to do forward_prop in the\n",
    "    whole swarm.\n",
    "\n",
    "    Inputs\n",
    "    ------\n",
    "    x: numpy.ndarray of shape (n_particles, dimensions)\n",
    "        The swarm that will perform the search\n",
    "\n",
    "    Returns\n",
    "    -------\n",
    "    numpy.ndarray of shape (n_particles, )\n",
    "        The computed loss for each particle\n",
    "    \"\"\"\n",
    "    n_particles = x.shape[0]\n",
    "    j = [forward_prop(x[i]) for i in range(n_particles)]\n",
    "    return np.array(j)\n"
   ]
  },
  {
   "cell_type": "code",
   "execution_count": null,
   "metadata": {},
   "outputs": [],
   "source": [
    "# Initialize swarm\n",
    "# Performing PSO on the custom-function\n",
    "options = {'c1': 0.5, 'c2': 0.3, 'w': 0.9}\n",
    "\n",
    "# Call instance of PSO\n",
    "dimensions = (4 * 20) + (20 * 3) + 20 + 3\n",
    "optimizer = ps.single.GlobalBestPSO(n_particles=100, dimensions=dimensions, options=options)\n",
    "\n",
    "# Perform optimization\n",
    "cost, pos = optimizer.optimize(f, print_step=100, iters=1000, verbose=3)\n"
   ]
  },
  {
   "cell_type": "code",
   "execution_count": null,
   "metadata": {},
   "outputs": [],
   "source": [
    "XX=[1/1000,101/1000,201/1000,301/1000,401/1000,501/1000,601/1000,701/1000,801/1000,901/1000]\n",
    "YY=[0.67,0.58,0.57,0.56,0.56,0.55,0.55,0.55,0.55,0.55]\n",
    "plt.plot(XX,YY)\n",
    "plt.xlabel('Iteration')\n",
    "plt.ylabel('cost')\n",
    "print('Final cost: 0.5547')\n",
    "print('Best value: [ 1.507160 1.800404 -0.010308 ...]')\n",
    "plt.show()"
   ]
  },
  {
   "cell_type": "code",
   "execution_count": null,
   "metadata": {},
   "outputs": [],
   "source": [
    "def predict(X, pos):\n",
    "    \"\"\"\n",
    "    Use the trained weights to perform class predictions.\n",
    "\n",
    "    Inputs\n",
    "    ------\n",
    "    X: numpy.ndarray\n",
    "        Input Daiabetic dataset\n",
    "    pos: numpy.ndarray\n",
    "        Position matrix found by the swarm. Will be rolled\n",
    "        into weights and biases.\n",
    "    \"\"\"\n",
    "    # Neural network architecture\n",
    "    n_inputs = 4\n",
    "    n_hidden = 20\n",
    "    n_classes = 3\n",
    "\n",
    "    # Roll-back the weights and biases\n",
    "    W1 = pos[0:80].reshape((n_inputs, n_hidden))\n",
    "    b1 = pos[80:100].reshape((n_hidden,))\n",
    "    W2 = pos[100:160].reshape((n_hidden, n_classes))\n",
    "    b2 = pos[160:163].reshape((n_classes,))\n",
    "\n",
    "    # Perform forward propagation\n",
    "    z1 = X.dot(W1) + b1  # Pre-activation in Layer 1\n",
    "    a1 = np.tanh(z1)  # Activation in Layer 1\n",
    "    z2 = a1.dot(W2) + b2  # Pre-activation in Layer 2\n",
    "    logits = z2  # Logits for Layer 2\n",
    "\n",
    "    y_pred = np.argmax(logits, axis=1)\n",
    "    return y_pred\n"
   ]
  },
  {
   "cell_type": "code",
   "execution_count": null,
   "metadata": {},
   "outputs": [],
   "source": [
    "(predict(X, pos) == y).mean()"
   ]
  },
  {
   "cell_type": "code",
   "execution_count": null,
   "metadata": {},
   "outputs": [],
   "source": [
    "#دریافت علائم حیاتی از کاربر و تشخیص وپیش بیتی بیماری بصورت آنی\n",
    "#def Health_Recommendation(*Info):\n",
    "\n",
    "\n",
    "    #Pregnancies=input('lotfan mizane Pregnancies ra vared khonid=') \n",
    "    #Glucose=input('lotfan mizane Glucose ra vared khonid=') \n",
    "    #BloodPressure=input('lotfan mizane BloodPressure ra vared khonid=') \n",
    "    #SkinThickness=input('lotfan mizane SkinThickness ra vared khonid=') \n",
    "    #Insulin=input('lotfan mizane Insulin ra vared khonid=') \n",
    "    #BMI=input('lotfan mizane BMI ra vared khonid=') \n",
    "    #DiabetesPedigreeFunction=input('lotfan mizane DiabetesPedigreeFunction ra vared khonid=') \n",
    "    #Age=input('lotfan Age ra vared khonid=') \n",
    "    #vital_symptoms=[Pregnancies,Glucose,BloodPressure,SkinThickness,Insulin,BMI,DiabetesPedigreeFunction,Age] \n",
    "    #print('info=',vital_symptoms) \n",
    "\n",
    "    \n",
    "    #پس از دریافت اعداد از کاربر آن را به الگوریتم پیشنهادی اعمال کنید و پس از بدست آوردن نتیجه\n",
    "    #از هوش مصنوعی استفاده کرده و برنامه خودرا بصورت تعاملی کنید \n",
    "    #که قادر به پاسخگویی آن تایم به علائم حیاتی باشد\n",
    "    \n",
    "    \n",
    "    \n",
    "    #if Pregnancies<=30 :\n",
    "        #print(\"داری دیابت\")\n",
    "    #elif Pregnancies==30:\n",
    "        #print(\"عدم دیابت\")\n",
    "    #else Pregnancies>=30:\n",
    "        #print(\"نرمال\")\n",
    "\n",
    "\n",
    "#Health_Recommendation()"
   ]
  },
  {
   "cell_type": "code",
   "execution_count": 89,
   "metadata": {},
   "outputs": [
    {
     "ename": "SyntaxError",
     "evalue": "invalid syntax (<ipython-input-89-cc5d81d1303e>, line 20)",
     "output_type": "error",
     "traceback": [
      "\u001b[1;36m  File \u001b[1;32m\"<ipython-input-89-cc5d81d1303e>\"\u001b[1;36m, line \u001b[1;32m20\u001b[0m\n\u001b[1;33m    last=datetime.date(2018.9.30)\u001b[0m\n\u001b[1;37m                               ^\u001b[0m\n\u001b[1;31mSyntaxError\u001b[0m\u001b[1;31m:\u001b[0m invalid syntax\n"
     ]
    }
   ],
   "source": [
    "#سیستم ارسال اس ام اس به مراقبین \n",
    "from datetime import datetime\n",
    "from threading import Timer\n",
    "x=datetime.today()\n",
    "y=x.replace(day=x.day+1,hour=16,minute=9,second=0)\n",
    "data_t=y-x\n",
    "secs=delta_t.seconds+1\n",
    "def hello_world():\n",
    "    print(\"سیستم اطلاع رسانی وضعیت بیماران\")\n",
    "    t=Timer(secs,hello_world)\n",
    "    t.start()\n",
    "import requests\n",
    "import DateTime\n",
    "import calendar\n",
    "now=datetime.datetime.now()\n",
    "today_time=datetime.date.today()\n",
    "cy=now.year\n",
    "cm=now.month\n",
    "last_day=calendar.monthrange(cy,cm)[1]\n",
    "last=datetime.date(2018.9.30)\n",
    "if today_time==last:\n",
    "    url=\"آدرس API\"\n",
    "    payload={\"receptor\":'      ',\"message\":\"بیمار شما نیاز به کمک آنی دارد\"}\n",
    "    javabet=requests.post(url,data=payload)\n",
    "    print(javabet)\n",
    "else:\n",
    "    print(\"بیمار شما در وضعیت وخیمی قرار گرفته نیاز به کمک دارد\")"
   ]
  },
  {
   "cell_type": "code",
   "execution_count": 90,
   "metadata": {},
   "outputs": [],
   "source": [
    "#اتمام"
   ]
  },
  {
   "cell_type": "code",
   "execution_count": null,
   "metadata": {},
   "outputs": [],
   "source": []
  },
  {
   "cell_type": "code",
   "execution_count": null,
   "metadata": {},
   "outputs": [],
   "source": []
  },
  {
   "cell_type": "code",
   "execution_count": null,
   "metadata": {},
   "outputs": [],
   "source": []
  }
 ],
 "metadata": {
  "kernelspec": {
   "display_name": "Python 3",
   "language": "python",
   "name": "python3"
  },
  "language_info": {
   "codemirror_mode": {
    "name": "ipython",
    "version": 3
   },
   "file_extension": ".py",
   "mimetype": "text/x-python",
   "name": "python",
   "nbconvert_exporter": "python",
   "pygments_lexer": "ipython3",
   "version": "3.7.0"
  }
 },
 "nbformat": 4,
 "nbformat_minor": 2
}
